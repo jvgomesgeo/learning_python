{
 "cells": [
  {
   "cell_type": "code",
   "execution_count": 5,
   "metadata": {},
   "outputs": [
    {
     "name": "stdout",
     "output_type": "stream",
     "text": [
      "*************************\n",
      "Banking Program\n",
      "*************************\n",
      "1. Show Balance\n",
      "2. Deposit\n",
      "3. Withdraw\n",
      "4. Exit\n",
      "Value Error\n",
      "*************************\n",
      "Banking Program\n",
      "*************************\n",
      "1. Show Balance\n",
      "2. Deposit\n",
      "3. Withdraw\n",
      "4. Exit\n",
      "Thank you! Have a nice a day !\n"
     ]
    }
   ],
   "source": [
    "def show_balance(balance):\n",
    "    print(f\"Your balance is  ${balance:.2f}\")\n",
    "    pass\n",
    "\n",
    "\n",
    "def deposit(balance):\n",
    "    amount = float(input(\"Enter an amount to be deposited: \"))\n",
    "    \n",
    "    if amount < 0:\n",
    "        print(\"That's not a valid amount\")\n",
    "        return 0 #importante retornar zero para o programa n quebrar\n",
    "    else:\n",
    "        return amount\n",
    "    \n",
    "def withdraw(balance):\n",
    "    amount = float(input(\"Enter an amount to be withdraw: \"))\n",
    "\n",
    "    if amount > balance:\n",
    "        print(\"Insufficient funds\")\n",
    "        return 0\n",
    "    elif amount < 0:\n",
    "        print(\"Amount must be greater than zero\")\n",
    "        return 0\n",
    "    else:\n",
    "        return amount\n",
    "\n",
    "def main():\n",
    "    balance = 0\n",
    "    is_running = True\n",
    "\n",
    "\n",
    "    while is_running:\n",
    "        print(\"*\" *25)\n",
    "        print(\"Banking Program\")\n",
    "        print(\"*\" *25)\n",
    "        print(\"1. Show Balance\")\n",
    "        print(\"2. Deposit\")\n",
    "        print(\"3. Withdraw\")\n",
    "        print(\"4. Exit\")\n",
    "\n",
    "        choice = input(\"Enter your choice (1-4): \")\n",
    "\n",
    "        if choice == \"4\":\n",
    "            is_running = False\n",
    "\n",
    "        elif choice == \"1\":\n",
    "            show_balance(balance)\n",
    "\n",
    "        elif choice == \"2\":\n",
    "            balance += deposit(balance)\n",
    "        \n",
    "        elif choice == \"3\":\n",
    "            balance -= withdraw(balance)\n",
    "\n",
    "        else:\n",
    "            print(\"Value Error\")\n",
    "\n",
    "    print(\"Thank you! Have a nice a day !\")\n",
    "\n",
    "\n",
    "if __name__ == '__main__':\n",
    "    main()"
   ]
  }
 ],
 "metadata": {
  "kernelspec": {
   "display_name": "base",
   "language": "python",
   "name": "python3"
  },
  "language_info": {
   "codemirror_mode": {
    "name": "ipython",
    "version": 3
   },
   "file_extension": ".py",
   "mimetype": "text/x-python",
   "name": "python",
   "nbconvert_exporter": "python",
   "pygments_lexer": "ipython3",
   "version": "3.12.7"
  }
 },
 "nbformat": 4,
 "nbformat_minor": 2
}
