{
 "cells": [
  {
   "cell_type": "code",
   "execution_count": null,
   "metadata": {},
   "outputs": [],
   "source": [
    "estoque = {'Calça Jeans':{5: 30.9},\n",
    "           'Camiseta':{15 : 5.60},\n",
    "           'Óculos':{8: 7.55},\n",
    "           'Tênis':{ 7: 56.7},\n",
    "           'Cinto':{3 : 12.3},\n",
    "           'Regata': {1 : 4.7},\n",
    "           'Bermuda':{5: 7.4}\n",
    "           }\n",
    "\n",
    "options = [\"1- Add Protudo ao Estoque\", \n",
    "           \"2- Visualizar Estoque\", \n",
    "           \"3- Registrar Venda\", \n",
    "           \"4- Remover Protudo\" \n",
    "           \"q - Sair\"]\n",
    "\n"
   ]
  },
  {
   "cell_type": "code",
   "execution_count": null,
   "metadata": {},
   "outputs": [
    {
     "data": {
      "text/plain": [
       "dict_values([5.6])"
      ]
     },
     "execution_count": 9,
     "metadata": {},
     "output_type": "execute_result"
    }
   ],
   "source": [
    "estoque.get('Camiseta').values()"
   ]
  },
  {
   "cell_type": "code",
   "execution_count": null,
   "metadata": {},
   "outputs": [
    {
     "name": "stdout",
     "output_type": "stream",
     "text": [
      "1- Add Protudo ao Estoque / 2- Visualizar Estoque / 3- Registrar Venda / 4- Remover Protudoq - Sair / Nome do produto: Cueca\n",
      "Quantidade inicial: 10\n",
      "Preço unitário: 2.5\n",
      "1- Add Protudo ao Estoque / 2- Visualizar Estoque / 3- Registrar Venda / 4- Remover Protudoq - Sair / "
     ]
    }
   ],
   "source": [
    "while True:\n",
    "\n",
    "    for opt in options:\n",
    "        print(opt, end = \" / \")\n",
    "\n",
    "    choice = input(\"Digite a opção desejada: \")\n",
    "    if choice == \"q\".lower():\n",
    "        break\n",
    "\n",
    "    elif choice == \"1\":\n",
    "        new_product = input(\"Digite o produto a ser adicionado\")\n",
    "        quant_new_product = int(input(\"Digite a quantidade do produto a ser adicionado\"))\n",
    "        preco_new_product = float(input(\"Digite o valor do produto a ser adicionado\"))\n",
    "        estoque.update({new_product: {quant_new_product : preco_new_product}})\n",
    "        \n",
    "        print()\n",
    "        print(f\"Nome do produto: {new_product}\")\n",
    "        print(f\"Quantidade inicial: {quant_new_product}\")\n",
    "        print(f\"Preço unitário: {preco_new_product}\")\n",
    "    \n",
    "    elif choice == \"2\":\n",
    "\n",
    "        print(\"--- Estoque ---\")\n",
    "        \n",
    "        \n",
    "\n",
    "\n",
    "\n",
    "\n",
    "\n"
   ]
  }
 ],
 "metadata": {
  "kernelspec": {
   "display_name": "Python 3",
   "language": "python",
   "name": "python3"
  },
  "language_info": {
   "codemirror_mode": {
    "name": "ipython",
    "version": 3
   },
   "file_extension": ".py",
   "mimetype": "text/x-python",
   "name": "python",
   "nbconvert_exporter": "python",
   "pygments_lexer": "ipython3",
   "version": "3.12.2"
  }
 },
 "nbformat": 4,
 "nbformat_minor": 2
}
