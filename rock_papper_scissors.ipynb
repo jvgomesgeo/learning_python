{
 "cells": [
  {
   "cell_type": "code",
   "execution_count": null,
   "metadata": {},
   "outputs": [],
   "source": [
    "import random\n",
    "\n",
    "lista_choices = ['rock','papper','scissors']\n",
    "\n",
    "dict_ = {'rock' : 'papper',\n",
    "         'papper': 'scissors',\n",
    "         'scissors' : 'rock'}\n",
    "\n",
    "while True:\n",
    "    answer = random.choice(lista_choices)\n",
    "    guess = input(\"Choose your object: rock, papper or scissors\")\n",
    "\n",
    "    if guess.isalpha():\n",
    "        \n",
    "        if  answer == 'rock' and guess == dict_.get(answer):\n",
    "            print(f\"You Win ! {guess} beats {answer}\")\n",
    "            break\n",
    "        \n",
    "        elif answer == 'papper' and guess == dict_.get(answer):\n",
    "            print(f\"You Win ! {guess} beats {answer}\")\n",
    "            break\n",
    "        \n",
    "        elif answer == 'scissors' and guess == dict_.get(answer):\n",
    "            print(f\"You Win ! {guess} beats {answer}\")\n",
    "            break\n",
    "\n",
    "        else:\n",
    "            print(f\"You Lose ! {answer} beats {guess}\")\n",
    "        \n",
    "    else:\n",
    "        print(\"Choose a valid value !\")\n"
   ]
  }
 ],
 "metadata": {
  "language_info": {
   "name": "python"
  }
 },
 "nbformat": 4,
 "nbformat_minor": 2
}
