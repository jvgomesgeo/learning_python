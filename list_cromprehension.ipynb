{
 "cells": [
  {
   "cell_type": "code",
   "execution_count": 4,
   "metadata": {},
   "outputs": [
    {
     "name": "stdout",
     "output_type": "stream",
     "text": [
      "1\n",
      "2\n",
      "3\n",
      "4\n",
      "5\n",
      "6\n",
      "7\n",
      "8\n",
      "9\n",
      "10\n"
     ]
    },
    {
     "data": {
      "text/plain": [
       "[2, 4, 6, 8, 10]"
      ]
     },
     "execution_count": 4,
     "metadata": {},
     "output_type": "execute_result"
    }
   ],
   "source": [
    "# list comprehension => A Concise way to create lists in python\n",
    "#                         Compact and easier to read than traditioal loops\n",
    "#                         [expression for value in iterable if condition]\n",
    "pares = []\n",
    "for value in range(1,11):\n",
    "    print(value)\n",
    "    if value % 2 == 0:\n",
    "        pares.append(value)\n",
    "\n",
    "pares\n"
   ]
  },
  {
   "cell_type": "code",
   "execution_count": 5,
   "metadata": {},
   "outputs": [
    {
     "data": {
      "text/plain": [
       "[2, 4, 6, 8, 10]"
      ]
     },
     "execution_count": 5,
     "metadata": {},
     "output_type": "execute_result"
    }
   ],
   "source": [
    "#comprehension lists\n",
    "pares2 = [i for i in range(1,11) if i%2 == 0]\n",
    "pares2"
   ]
  },
  {
   "cell_type": "code",
   "execution_count": 8,
   "metadata": {},
   "outputs": [
    {
     "name": "stdout",
     "output_type": "stream",
     "text": [
      "[1, 4, 9, 16, 25, 36, 49, 64, 81, 100]\n"
     ]
    }
   ],
   "source": [
    "doubles = [x*2 for x in range(1,11)]\n",
    "triple = [y*3 for y in range(1,11)]\n",
    "squares = [z*z for z in range(1,11)]\n",
    "\n",
    "print(squares)"
   ]
  },
  {
   "cell_type": "code",
   "execution_count": 11,
   "metadata": {},
   "outputs": [
    {
     "name": "stdout",
     "output_type": "stream",
     "text": [
      "['A', 'O', 'P', 'C']\n"
     ]
    }
   ],
   "source": [
    "fruits = ['apple', 'orange', 'pineapple', 'coconuts']\n",
    "fruits_first_chat = [f[0].upper() for f in fruits]\n",
    "fruits = [i.upper() for i in fruits]\n",
    "print(fruits_first_chat)"
   ]
  },
  {
   "cell_type": "code",
   "execution_count": 14,
   "metadata": {},
   "outputs": [
    {
     "name": "stdout",
     "output_type": "stream",
     "text": [
      "[1, -3, -5]\n"
     ]
    }
   ],
   "source": [
    "numbers = [1,2,-3,-5,-4]\n",
    "\n",
    "positive = [i for i in numbers if i>0]\n",
    "negative = [y for y in numbers if y< 0]\n",
    "even = [x for x in numbers if x%2 == 0]\n",
    "odds = [d for d in numbers if d%2 != 0]\n",
    "\n",
    "print(odds)"
   ]
  },
  {
   "cell_type": "code",
   "execution_count": 15,
   "metadata": {},
   "outputs": [],
   "source": [
    "grades = [85, 42, 79, 90, 61, 56, 30 ]\n",
    "passing_grades = [i for i in grades if i >= 60]\n"
   ]
  }
 ],
 "metadata": {
  "kernelspec": {
   "display_name": "Python 3",
   "language": "python",
   "name": "python3"
  },
  "language_info": {
   "codemirror_mode": {
    "name": "ipython",
    "version": 3
   },
   "file_extension": ".py",
   "mimetype": "text/x-python",
   "name": "python",
   "nbconvert_exporter": "python",
   "pygments_lexer": "ipython3",
   "version": "3.12.2"
  }
 },
 "nbformat": 4,
 "nbformat_minor": 2
}
