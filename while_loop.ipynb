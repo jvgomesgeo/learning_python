{
 "cells": [
  {
   "cell_type": "code",
   "execution_count": 1,
   "metadata": {},
   "outputs": [],
   "source": [
    "#while loop will execute some code WHILE SOME CONDITIONAL REMAINS TRUE\n"
   ]
  },
  {
   "cell_type": "code",
   "execution_count": null,
   "metadata": {},
   "outputs": [
    {
     "name": "stdout",
     "output_type": "stream",
     "text": [
      "you did not enter your name\n"
     ]
    }
   ],
   "source": [
    "#preste atenção nessa condição\n",
    "name = input('enter  your name: ')\n",
    "\n",
    "if name == '':\n",
    "    print('you did not enter your name')\n",
    "else:\n",
    "    print(f'welcome {name}')\n",
    "\n",
    "#se n digitarmos nada no nome, vai retornar falando que n teve nada\n"
   ]
  },
  {
   "cell_type": "code",
   "execution_count": null,
   "metadata": {},
   "outputs": [
    {
     "name": "stdout",
     "output_type": "stream",
     "text": [
      "You did not enter your name\n",
      "You did not enter your name\n",
      "You did not enter your name\n",
      "You did not enter your name\n",
      "Welcome José\n"
     ]
    }
   ],
   "source": [
    "#agora se colocarmos em um loop while, \n",
    "# para que o usuario possa colocar o nome ate n estiver n vazio\n",
    "\n",
    "name = input('Enter your name')\n",
    "\n",
    "while name == '':\n",
    "    print('You did not enter your name')\n",
    "    name = input('Enter your name')\n",
    "\n",
    "print(f'Welcome {name}')\n",
    "#what happened here was, if the condition applied into the while loop is True,\n",
    "#the loop will continue until it turns False\n"
   ]
  },
  {
   "cell_type": "code",
   "execution_count": null,
   "metadata": {},
   "outputs": [],
   "source": [
    "#OBS: É RECOMENDADO COLOCAR OUTRA CODIGO APOS O PRINT, \n",
    "# PARA N FICAR UM LOOP INFINITO\n",
    "name = input('Enter your name')\n",
    "\n",
    "while name == '':\n",
    "    print('You did not enter your name')\n",
    "\n",
    "#se eu executar isso e não digitar nada no input, vai ser infinito\n"
   ]
  },
  {
   "cell_type": "code",
   "execution_count": 5,
   "metadata": {},
   "outputs": [
    {
     "name": "stdout",
     "output_type": "stream",
     "text": [
      "your age is: 2 years\n"
     ]
    }
   ],
   "source": [
    "#outro para fugir do de lopp infinito\n",
    "\n",
    "age = int(input('enter you age'))\n",
    "\n",
    "while age <= 0:\n",
    "    print('Your age is not valid')\n",
    "    age = int(input('enter you age'))\n",
    "\n",
    "print(f'your age is: {age} years')"
   ]
  },
  {
   "cell_type": "code",
   "execution_count": null,
   "metadata": {},
   "outputs": [
    {
     "name": "stdout",
     "output_type": "stream",
     "text": [
      "bye\n"
     ]
    }
   ],
   "source": [
    "#usando um not\n",
    "#nesse ex, se a food não for igual a \"q\", ele continua o loop\n",
    "\n",
    "food = input(\"Enter a food you like (q to quit)\")\n",
    "\n",
    "while not food == 'q':\n",
    "    print(f\"You like {food}\")\n",
    "    food = input(\"Enter a food you like (q to quit)\")\n",
    "\n",
    "print(\"bye\")"
   ]
  },
  {
   "cell_type": "code",
   "execution_count": null,
   "metadata": {},
   "outputs": [
    {
     "name": "stdout",
     "output_type": "stream",
     "text": [
      "Your number is lower or higher than 10  - (-9)\n",
      "Your number is lower or higher than 10  - (-9)\n",
      "Your number is 2\n"
     ]
    }
   ],
   "source": [
    "\n",
    "number = int(input(\"Enter a number between 1-10: \"))\n",
    "\n",
    "while number < 1 or number > 10:\n",
    "    print(f\"Your number is lower or higher than 10  - ({number})\")\n",
    "    \n",
    "    number = int(input(\"Enter a number between 1-10: \"))\n",
    "print(f\"Your number is {number}\")\n",
    " \n"
   ]
  }
 ],
 "metadata": {
  "kernelspec": {
   "display_name": "Python 3",
   "language": "python",
   "name": "python3"
  },
  "language_info": {
   "codemirror_mode": {
    "name": "ipython",
    "version": 3
   },
   "file_extension": ".py",
   "mimetype": "text/x-python",
   "name": "python",
   "nbconvert_exporter": "python",
   "pygments_lexer": "ipython3",
   "version": "3.12.8"
  }
 },
 "nbformat": 4,
 "nbformat_minor": 2
}
