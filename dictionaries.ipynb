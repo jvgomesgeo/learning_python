{
 "cells": [
  {
   "cell_type": "code",
   "execution_count": null,
   "metadata": {},
   "outputs": [],
   "source": [
    "#dictionary = a collection of {key:value} pairs, ordered and changeable. No duplicates."
   ]
  },
  {
   "cell_type": "code",
   "execution_count": 12,
   "metadata": {},
   "outputs": [
    {
     "data": {
      "text/plain": [
       "{'USA': 'Washington D.C.',\n",
       " 'India': 'New Delhi',\n",
       " 'China': 'Beijing',\n",
       " 'Russia': 'Moscow'}"
      ]
     },
     "execution_count": 12,
     "metadata": {},
     "output_type": "execute_result"
    }
   ],
   "source": [
    "capitals = {\"USA\": \"Washington D.C.\", \n",
    "            \"India\":\"New Delhi\",\n",
    "            \"China\":\"Beijing\",\n",
    "            \"Russia\":\"Moscow\"\n",
    "}\n",
    "capitals"
   ]
  },
  {
   "cell_type": "code",
   "execution_count": 7,
   "metadata": {},
   "outputs": [
    {
     "data": {
      "text/plain": [
       "{'USA': 'LA', 'India': 'New Delhi', 'China': 'Beijing', 'Russia': 'Moscow'}"
      ]
     },
     "execution_count": 7,
     "metadata": {},
     "output_type": "execute_result"
    }
   ],
   "source": [
    "capitals = {\"USA\": \"Washington D.C.\", \n",
    "            \"India\":\"New Delhi\",\n",
    "            \"China\":\"Beijing\",\n",
    "            \"Russia\":\"Moscow\",\n",
    "            \"USA\": \"LA\"\n",
    "            }\n",
    "\n",
    "capitals\n",
    "\n",
    "#repare que ele mudou o valor da key \"USA\" para o ultimo valor"
   ]
  },
  {
   "cell_type": "code",
   "execution_count": 3,
   "metadata": {},
   "outputs": [
    {
     "data": {
      "text/plain": [
       "'LA'"
      ]
     },
     "execution_count": 3,
     "metadata": {},
     "output_type": "execute_result"
    }
   ],
   "source": [
    "# to get de value of a dictionary we use the method .get(\"key\")\n",
    "# if the key passed into the key method not exist in dictionary, the will return None\n",
    "capitals.get(\"USA\")"
   ]
  },
  {
   "cell_type": "code",
   "execution_count": 13,
   "metadata": {},
   "outputs": [
    {
     "name": "stdout",
     "output_type": "stream",
     "text": [
      "That capital not exists\n"
     ]
    }
   ],
   "source": [
    "# if the key passed into the key method not exist in dictionary, the will return None\n",
    "\n",
    "if capitals.get(\"Japan\"):\n",
    "    print(\"That capital exists\")\n",
    "else:\n",
    "    print(\"That capital not exists\")"
   ]
  },
  {
   "cell_type": "code",
   "execution_count": 4,
   "metadata": {},
   "outputs": [
    {
     "data": {
      "text/plain": [
       "{'USA': 'LA',\n",
       " 'India': 'New Delhi',\n",
       " 'China': 'Beijing',\n",
       " 'Russia': 'St. Petersburg',\n",
       " 'Germany': 'Berlin'}"
      ]
     },
     "execution_count": 4,
     "metadata": {},
     "output_type": "execute_result"
    }
   ],
   "source": [
    "#adding a pair of key : value or updating a pair in the dictionary:\n",
    " \n",
    "capitals.update({\"Germany\" : \"Berlin\"}) #new pair\n",
    "capitals.update({\"Russia\" : \"St. Petersburg\"})\n",
    "capitals"
   ]
  },
  {
   "cell_type": "code",
   "execution_count": 8,
   "metadata": {},
   "outputs": [
    {
     "data": {
      "text/plain": [
       "{'USA': 'LA', 'India': 'New Delhi', 'Russia': 'Moscow'}"
      ]
     },
     "execution_count": 8,
     "metadata": {},
     "output_type": "execute_result"
    }
   ],
   "source": [
    "#to remove a pair from a dictionario we use the .pop(\"key\")\n",
    "\n",
    "\n",
    "capitals.pop(\"China\")\n",
    "capitals"
   ]
  },
  {
   "cell_type": "code",
   "execution_count": 9,
   "metadata": {},
   "outputs": [
    {
     "data": {
      "text/plain": [
       "('Russia', 'Moscow')"
      ]
     },
     "execution_count": 9,
     "metadata": {},
     "output_type": "execute_result"
    }
   ],
   "source": [
    "#the .popitem() method  will remove the last pair form the dictionary\n",
    "\n",
    "capitals.popitem()\n",
    "\n"
   ]
  },
  {
   "cell_type": "code",
   "execution_count": 11,
   "metadata": {},
   "outputs": [
    {
     "data": {
      "text/plain": [
       "{}"
      ]
     },
     "execution_count": 11,
     "metadata": {},
     "output_type": "execute_result"
    }
   ],
   "source": [
    "#to clear the dictionary we use .clear()\n",
    "\n",
    "capitals.clear()\n",
    "capitals"
   ]
  },
  {
   "cell_type": "code",
   "execution_count": 15,
   "metadata": {},
   "outputs": [
    {
     "name": "stdout",
     "output_type": "stream",
     "text": [
      "USA\n",
      "India\n",
      "China\n",
      "Russia\n"
     ]
    }
   ],
   "source": [
    "#To get all the keys in the dict but not the values, we use .keys()\n",
    "\n",
    "keys = capitals.keys()\n",
    "\n",
    "for key in capitals.keys():\n",
    "    print(key)"
   ]
  },
  {
   "cell_type": "code",
   "execution_count": 17,
   "metadata": {},
   "outputs": [
    {
     "name": "stdout",
     "output_type": "stream",
     "text": [
      "Washington D.C.\n",
      "New Delhi\n",
      "Beijing\n",
      "Moscow\n"
     ]
    }
   ],
   "source": [
    "#To get all the values in the dict but not the keys, we use .values()\n",
    "\n",
    "\n",
    "values = capitals.values()\n",
    "#print(values)\n",
    "\n",
    "for value in capitals.values():\n",
    "    print(value)"
   ]
  },
  {
   "cell_type": "code",
   "execution_count": 21,
   "metadata": {},
   "outputs": [
    {
     "name": "stdout",
     "output_type": "stream",
     "text": [
      "USA : Washington D.C.\n",
      "India : New Delhi\n",
      "China : Beijing\n",
      "Russia : Moscow\n"
     ]
    }
   ],
   "source": [
    "#to access the pair in the dict, we use .items()\n",
    "items = capitals.items()\n",
    "#print(items)\n",
    "\n",
    "for key, value in capitals.items():\n",
    "    print(f\"{key} : {value}\")"
   ]
  }
 ],
 "metadata": {
  "kernelspec": {
   "display_name": "Python 3",
   "language": "python",
   "name": "python3"
  },
  "language_info": {
   "codemirror_mode": {
    "name": "ipython",
    "version": 3
   },
   "file_extension": ".py",
   "mimetype": "text/x-python",
   "name": "python",
   "nbconvert_exporter": "python",
   "pygments_lexer": "ipython3",
   "version": "3.12.2"
  }
 },
 "nbformat": 4,
 "nbformat_minor": 2
}
