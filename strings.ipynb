{
 "cells": [
  {
   "cell_type": "code",
   "execution_count": 4,
   "metadata": {},
   "outputs": [],
   "source": [
    "string = 'jose Victor Gomes de Asevedo'"
   ]
  },
  {
   "cell_type": "code",
   "execution_count": null,
   "metadata": {},
   "outputs": [
    {
     "data": {
      "text/plain": [
       "28"
      ]
     },
     "execution_count": 2,
     "metadata": {},
     "output_type": "execute_result"
    }
   ],
   "source": [
    "#tamanho da string, retornar um interger\n",
    "len(string)"
   ]
  },
  {
   "cell_type": "code",
   "execution_count": null,
   "metadata": {},
   "outputs": [],
   "source": [
    "#retorna um index do primeiro acontedimento co caracter especificado. \n",
    "# Caso n encontre nenhum valor, retornará -1.\n",
    "string.find(\" \")"
   ]
  },
  {
   "cell_type": "code",
   "execution_count": 9,
   "metadata": {},
   "outputs": [
    {
     "data": {
      "text/plain": [
       "20"
      ]
     },
     "execution_count": 9,
     "metadata": {},
     "output_type": "execute_result"
    }
   ],
   "source": [
    "#retorna um index do ultimo acontedimento co caracter especificado\n",
    "string.rfind(\" \")"
   ]
  },
  {
   "cell_type": "code",
   "execution_count": null,
   "metadata": {},
   "outputs": [
    {
     "data": {
      "text/plain": [
       "'jose Victor Gomes de Asevedo'"
      ]
     },
     "execution_count": 8,
     "metadata": {},
     "output_type": "execute_result"
    }
   ],
   "source": [
    "#transformar só a primeira letra para maísucula\n",
    "string.capitalize()\n"
   ]
  },
  {
   "cell_type": "code",
   "execution_count": 10,
   "metadata": {},
   "outputs": [
    {
     "data": {
      "text/plain": [
       "'JOSE VICTOR GOMES DE ASEVEDO'"
      ]
     },
     "execution_count": 10,
     "metadata": {},
     "output_type": "execute_result"
    }
   ],
   "source": [
    "#transforma tudo em maiuscula\n",
    "string.upper()"
   ]
  },
  {
   "cell_type": "code",
   "execution_count": null,
   "metadata": {},
   "outputs": [
    {
     "data": {
      "text/plain": [
       "'jose victor gomes de asevedo'"
      ]
     },
     "execution_count": 11,
     "metadata": {},
     "output_type": "execute_result"
    }
   ],
   "source": [
    "#transforma tudo em minuscula\n",
    "string.lower()"
   ]
  },
  {
   "cell_type": "code",
   "execution_count": null,
   "metadata": {},
   "outputs": [],
   "source": [
    "#remoce espços do final e começo\n",
    "string.strip()"
   ]
  },
  {
   "cell_type": "code",
   "execution_count": null,
   "metadata": {},
   "outputs": [
    {
     "data": {
      "text/plain": [
       "True"
      ]
     },
     "execution_count": 13,
     "metadata": {},
     "output_type": "execute_result"
    }
   ],
   "source": [
    "#retorna um boolean. False para strings sem digitos ou com cobinação de digitos e caracateres, \n",
    "#EX: 'J0s3' => False, 'Jose' => False, '123' => true\n",
    "string.isdigit()\n",
    "string2 = '123'\n",
    "\n",
    "string2.isdigit()"
   ]
  },
  {
   "cell_type": "code",
   "execution_count": null,
   "metadata": {},
   "outputs": [
    {
     "data": {
      "text/plain": [
       "False"
      ]
     },
     "execution_count": 14,
     "metadata": {},
     "output_type": "execute_result"
    }
   ],
   "source": [
    "#retorna um booleano se a string contem apenas caracteres alfabeticos, OBS: espaço n conta como carac alfabetico\n",
    "#EX: 'J0s3' => False, 'Jose' =>True , '123' = False\n",
    "string.isalpha()\n",
    "\n"
   ]
  },
  {
   "cell_type": "code",
   "execution_count": null,
   "metadata": {},
   "outputs": [],
   "source": [
    "#conta a quantidade do caracter especificado. retorna um inteiro\n",
    "string.count(\" \")"
   ]
  },
  {
   "cell_type": "code",
   "execution_count": null,
   "metadata": {},
   "outputs": [],
   "source": [
    "#troca o primeiro caracter pelo segundo na string\n",
    "string.replace(\" \", \"-\")"
   ]
  },
  {
   "cell_type": "markdown",
   "metadata": {},
   "source": [
    "EXERCICIO:\n",
    "PEÇA PARA O USUARIO ESCOLHER UM username, porem ele n pode ter:\n",
    "espaços\n",
    "digitos\n",
    "tamanho maior que 12"
   ]
  },
  {
   "cell_type": "code",
   "execution_count": 18,
   "metadata": {},
   "outputs": [
    {
     "name": "stdout",
     "output_type": "stream",
     "text": [
      "Bem-vindo jose\n"
     ]
    }
   ],
   "source": [
    "username = input('Digite o seu username:')\n",
    "\n",
    "if len(username) > 12:\n",
    "    print(\"Seu usuário não pode conter mais de 12 caracteres.\")\n",
    "#se o username n encontrar nenhum \n",
    "elif not username.find(' ') == -1:\n",
    "    print(\"Seu usuário não pode conter espaços\")\n",
    "\n",
    "#se o username n for alfabetico\n",
    "elif not username.isalpha():\n",
    "    print(\"Seu usuário não pode conter digitos.\")\n",
    "\n",
    "else:\n",
    "    print(f\"Bem-vindo {username}\")\n",
    "\n"
   ]
  }
 ],
 "metadata": {
  "kernelspec": {
   "display_name": "base",
   "language": "python",
   "name": "python3"
  },
  "language_info": {
   "codemirror_mode": {
    "name": "ipython",
    "version": 3
   },
   "file_extension": ".py",
   "mimetype": "text/x-python",
   "name": "python",
   "nbconvert_exporter": "python",
   "pygments_lexer": "ipython3",
   "version": "3.12.7"
  }
 },
 "nbformat": 4,
 "nbformat_minor": 2
}
