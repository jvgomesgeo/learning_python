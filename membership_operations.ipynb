{
 "cells": [
  {
   "cell_type": "code",
   "execution_count": 1,
   "metadata": {},
   "outputs": [],
   "source": [
    "# Membership operators = used to test whether a value or variable is found in a sequence\n",
    "#                       (strings, lists, tuples, sets or dictionaries)\n",
    "#                       1. in\n",
    "#                       2. not in"
   ]
  },
  {
   "cell_type": "code",
   "execution_count": null,
   "metadata": {},
   "outputs": [
    {
     "name": "stdout",
     "output_type": "stream",
     "text": [
      "There ia a a\n"
     ]
    }
   ],
   "source": [
    "#testing with strings\n",
    "word  = \"Apple\"\n",
    "\n",
    "letter = input(\"Guess a letter in the secret word: \")\n",
    "\n",
    "#\"in\" in this case returns a boolean, \n",
    "# #True if letter in word or false if its not.\n",
    "if letter in word.lower(): \n",
    "    print(f\"There is a '{letter}'\")\n",
    "else:\n",
    "    print(f\"The {letter} was not found\")\n"
   ]
  },
  {
   "cell_type": "code",
   "execution_count": null,
   "metadata": {},
   "outputs": [
    {
     "name": "stdout",
     "output_type": "stream",
     "text": [
      "The z not found\n"
     ]
    }
   ],
   "source": [
    "#testing with strings\n",
    "word  = \"Apple\"\n",
    "\n",
    "letter = input(\"Guess a letter in the secret word: \")\n",
    "\n",
    "#\"in\" in this case returns a boolean, \n",
    "# #True if letter not in word or false if its in.\n",
    "if letter not in word.lower(): \n",
    "    print(f\"The {letter} was not found\")\n",
    "else:\n",
    "    print(f\"There is a '{letter}'\")\n",
    "    \n"
   ]
  },
  {
   "cell_type": "code",
   "execution_count": null,
   "metadata": {},
   "outputs": [
    {
     "name": "stdout",
     "output_type": "stream",
     "text": [
      "There is a student with the name: Spongebob\n"
     ]
    }
   ],
   "source": [
    "#Testing with sets\n",
    "students = {\"Spongebob\", \"Patrick\", \"Sandy\" }\n",
    "\n",
    "student = input(\"Enter the name of a student: \")\n",
    "\n",
    "if student in students:\n",
    "    print(f\"There is a student named by: {student}\")\n",
    "\n",
    "else:\n",
    "    print(f\"Student {student} was not found\")"
   ]
  },
  {
   "cell_type": "code",
   "execution_count": null,
   "metadata": {},
   "outputs": [
    {
     "name": "stdout",
     "output_type": "stream",
     "text": [
      "Student Squidward not found\n"
     ]
    }
   ],
   "source": [
    "#Testing with sets\n",
    "students = {\"Spongebob\", \"Patrick\", \"Sandy\" }\n",
    "\n",
    "student = input(\"Enter the name of a student: \")\n",
    "\n",
    "if student not in students:\n",
    "    print(f\"Student {student} was not found\")\n",
    "else:\n",
    "    print(f\"There is a student named by: {student}\")"
   ]
  },
  {
   "cell_type": "code",
   "execution_count": null,
   "metadata": {},
   "outputs": [
    {
     "name": "stdout",
     "output_type": "stream",
     "text": [
      "Sandy's grade is C\n"
     ]
    }
   ],
   "source": [
    "#testing with dictionaries\n",
    "\n",
    "grades = {\"Spongebob\": \"A\", \n",
    "          \"Patrick\": \"B\", \n",
    "          \"Sandy\": \"C\", \n",
    "          \"Squidward\": \"D\"}\n",
    "\n",
    "student = input(\"Enter the name of a student \")\n",
    "\n",
    "\n",
    "if student in grades:\n",
    "    print(f\"{student}'s grade is {grades[student]}\")\n",
    "\n",
    "else:\n",
    "    print(f\"{student} was not found\")"
   ]
  },
  {
   "cell_type": "code",
   "execution_count": null,
   "metadata": {},
   "outputs": [
    {
     "name": "stdout",
     "output_type": "stream",
     "text": [
      "The  is valid !\n"
     ]
    }
   ],
   "source": [
    "email = \"jvgomes@gmail.com\"\n",
    "\n",
    "\n",
    "if \"@\" in email and \".\" in email:\n",
    "    print(\"The is valid !\")\n",
    "\n",
    "else:\n",
    "    print(\"The email is not valid !\")"
   ]
  }
 ],
 "metadata": {
  "kernelspec": {
   "display_name": "base",
   "language": "python",
   "name": "python3"
  },
  "language_info": {
   "codemirror_mode": {
    "name": "ipython",
    "version": 3
   },
   "file_extension": ".py",
   "mimetype": "text/x-python",
   "name": "python",
   "nbconvert_exporter": "python",
   "pygments_lexer": "ipython3",
   "version": "3.12.7"
  }
 },
 "nbformat": 4,
 "nbformat_minor": 2
}
