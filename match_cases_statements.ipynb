{
 "cells": [
  {
   "cell_type": "code",
   "execution_count": 4,
   "metadata": {},
   "outputs": [
    {
     "name": "stdout",
     "output_type": "stream",
     "text": [
      "Its Tuesday !\n"
     ]
    }
   ],
   "source": [
    "# Math-case statement (switch): An alternative to using many \"elif\" statements\n",
    "#                             Execute some code if a value matches a \"case\"\n",
    "#                              Benefits: Cleaner and syntax is more readable\n",
    "\n",
    "#the program below\n",
    "def day_of_week(day):\n",
    "    match day: \n",
    "        case 1:\n",
    "            return \"Its Sunday !\"\n",
    "        case 2:\n",
    "            return \"Its Monday !\"\n",
    "        case 3:\n",
    "            return \"Its Tuesday !\"\n",
    "        case 4:\n",
    "            return \"Its Wednesday !\"\n",
    "        case 5:\n",
    "            return \"Its Thursday !\"\n",
    "        case  6:\n",
    "            return \"Its Friday !\"\n",
    "        case 7:\n",
    "            return \"Its Saturday\"\n",
    "        case _: #works like else statement\n",
    "            return \"Not a valid day\"\n",
    "    \n",
    "\n",
    "print(day_of_week(3))"
   ]
  },
  {
   "cell_type": "code",
   "execution_count": null,
   "metadata": {},
   "outputs": [],
   "source": [
    "def is_weekend(day):\n",
    "    match day:\n",
    "\n",
    "        case \"Sunday\":\n",
    "            return True\n",
    "        case \"Monday\":\n",
    "            return False\n",
    "        case \"Tuesday\":\n",
    "            return False\n",
    "        case \"Wednesday\":\n",
    "            return False\n",
    "        case \"Thursday\":\n",
    "            return False\n",
    "        case \"Friday\":\n",
    "            return False\n",
    "        case \"Saturday\":\n",
    "            return True\n",
    "        case _:\n",
    "            return False\n",
    "\n"
   ]
  },
  {
   "cell_type": "code",
   "execution_count": 6,
   "metadata": {},
   "outputs": [
    {
     "data": {
      "text/plain": [
       "False"
      ]
     },
     "execution_count": 6,
     "metadata": {},
     "output_type": "execute_result"
    }
   ],
   "source": [
    "#Pythonic way\n",
    "\n",
    "def is_weekend(day):\n",
    "    match day:\n",
    "\n",
    "        case \"Sunday\" | \"Saturday\":\n",
    "            return True\n",
    "        case \"Monday\" | \"Tuesday\" | \"Wednesday\" |\"Thursday\" | \"Friday\":\n",
    "            return False\n",
    "\n",
    "\n",
    "is_weekend(\"Friday\")"
   ]
  }
 ],
 "metadata": {
  "kernelspec": {
   "display_name": "Python 3",
   "language": "python",
   "name": "python3"
  },
  "language_info": {
   "codemirror_mode": {
    "name": "ipython",
    "version": 3
   },
   "file_extension": ".py",
   "mimetype": "text/x-python",
   "name": "python",
   "nbconvert_exporter": "python",
   "pygments_lexer": "ipython3",
   "version": "3.12.2"
  }
 },
 "nbformat": 4,
 "nbformat_minor": 2
}
