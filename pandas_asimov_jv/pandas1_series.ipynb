{
 "cells": [
  {
   "cell_type": "code",
   "execution_count": 2,
   "metadata": {},
   "outputs": [],
   "source": [
    "import pandas as pd\n",
    "import numpy"
   ]
  },
  {
   "cell_type": "code",
   "execution_count": 7,
   "metadata": {},
   "outputs": [
    {
     "data": {
      "text/plain": [
       "0    banana\n",
       "1       uva\n",
       "2      maçã\n",
       "dtype: object"
      ]
     },
     "execution_count": 7,
     "metadata": {},
     "output_type": "execute_result"
    }
   ],
   "source": [
    "col1  = ['banana', 'uva', 'maçã'] \n",
    "col2 = [1.2, 3.4, 5]\n",
    "col3 = [0.3,0.2,0.15]\n",
    "col4 = ['sadia', 'seara', 'aurora']\n",
    "\n",
    "pd.Series(col1)"
   ]
  },
  {
   "cell_type": "code",
   "execution_count": 9,
   "metadata": {},
   "outputs": [
    {
     "data": {
      "text/plain": [
       "2    banana\n",
       "3       uva\n",
       "4      maçã\n",
       "dtype: object"
      ]
     },
     "execution_count": 9,
     "metadata": {},
     "output_type": "execute_result"
    }
   ],
   "source": [
    "#repare que ele cria um indice padrao para a coluna, se eu quiser especificar o indice\n",
    "\n",
    "index = [2,3,4]\n",
    "\n",
    "pd.Series(data = col1, index = index)"
   ]
  },
  {
   "cell_type": "code",
   "execution_count": 11,
   "metadata": {},
   "outputs": [
    {
     "data": {
      "text/plain": [
       "a    10\n",
       "b    20\n",
       "c    30\n",
       "dtype: int64"
      ]
     },
     "execution_count": 11,
     "metadata": {},
     "output_type": "execute_result"
    }
   ],
   "source": [
    "#criando uma series com dict, nesse caso ele entende que a chave é o indice e o valor a coluna\n",
    "\n",
    "d = {'a':10, 'b':20, 'c': 30}\n",
    "\n",
    "pd.Series(d)"
   ]
  },
  {
   "cell_type": "code",
   "execution_count": null,
   "metadata": {},
   "outputs": [
    {
     "data": {
      "text/plain": [
       "1"
      ]
     },
     "execution_count": 15,
     "metadata": {},
     "output_type": "execute_result"
    }
   ],
   "source": [
    "#quando o indice for uma string, serve mais como um seletor:\n",
    "#ao usar a notação [] em uma series, ele retorna o valor do indice dela\n",
    "\n",
    "serie = pd.Series(data = [1,2,3], index = ['EUA','Russia','Brasil'])\n",
    "serie['EUA']"
   ]
  },
  {
   "cell_type": "code",
   "execution_count": null,
   "metadata": {},
   "outputs": [
    {
     "data": {
      "text/plain": [
       "Argentina    NaN\n",
       "Brasil       6.0\n",
       "EUA          2.0\n",
       "Russia       4.0\n",
       "dtype: float64"
      ]
     },
     "execution_count": 16,
     "metadata": {},
     "output_type": "execute_result"
    }
   ],
   "source": [
    "#somando serires\n",
    "#ele vai usar os indices iguai para somar os valores, para os que ele n encontrar os index, ele retorna um nan(not a number)\n",
    "\n",
    "serie1 = pd.Series(data = [1,2,3], index = ['EUA','Russia','Brasil'])\n",
    "serie2 = pd.Series(data = [1,2,3,4], index = ['EUA','Russia','Brasil','Argentina'])\n",
    "\n",
    "serie1+serie2\n",
    "#repare que onde "
   ]
  }
 ],
 "metadata": {
  "kernelspec": {
   "display_name": "base",
   "language": "python",
   "name": "python3"
  },
  "language_info": {
   "codemirror_mode": {
    "name": "ipython",
    "version": 3
   },
   "file_extension": ".py",
   "mimetype": "text/x-python",
   "name": "python",
   "nbconvert_exporter": "python",
   "pygments_lexer": "ipython3",
   "version": "3.12.7"
  }
 },
 "nbformat": 4,
 "nbformat_minor": 2
}
