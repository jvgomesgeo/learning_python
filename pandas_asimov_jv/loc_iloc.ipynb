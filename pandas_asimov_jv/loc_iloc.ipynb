{
 "cells": [
  {
   "cell_type": "code",
   "execution_count": 2,
   "metadata": {},
   "outputs": [
    {
     "data": {
      "text/html": [
       "<div>\n",
       "<style scoped>\n",
       "    .dataframe tbody tr th:only-of-type {\n",
       "        vertical-align: middle;\n",
       "    }\n",
       "\n",
       "    .dataframe tbody tr th {\n",
       "        vertical-align: top;\n",
       "    }\n",
       "\n",
       "    .dataframe thead th {\n",
       "        text-align: right;\n",
       "    }\n",
       "</style>\n",
       "<table border=\"1\" class=\"dataframe\">\n",
       "  <thead>\n",
       "    <tr style=\"text-align: right;\">\n",
       "      <th></th>\n",
       "      <th>Price</th>\n",
       "      <th>date</th>\n",
       "      <th>brand</th>\n",
       "      <th>profit</th>\n",
       "    </tr>\n",
       "  </thead>\n",
       "  <tbody>\n",
       "    <tr>\n",
       "      <th>A</th>\n",
       "      <td>1.449313</td>\n",
       "      <td>1.299423</td>\n",
       "      <td>0.534025</td>\n",
       "      <td>1.254572</td>\n",
       "    </tr>\n",
       "    <tr>\n",
       "      <th>B</th>\n",
       "      <td>-0.217559</td>\n",
       "      <td>-1.030891</td>\n",
       "      <td>0.195701</td>\n",
       "      <td>-0.128715</td>\n",
       "    </tr>\n",
       "    <tr>\n",
       "      <th>C</th>\n",
       "      <td>0.076506</td>\n",
       "      <td>0.469138</td>\n",
       "      <td>-0.036342</td>\n",
       "      <td>-0.011546</td>\n",
       "    </tr>\n",
       "    <tr>\n",
       "      <th>D</th>\n",
       "      <td>0.283653</td>\n",
       "      <td>0.470595</td>\n",
       "      <td>-1.844096</td>\n",
       "      <td>0.416239</td>\n",
       "    </tr>\n",
       "    <tr>\n",
       "      <th>F</th>\n",
       "      <td>-1.454132</td>\n",
       "      <td>0.203074</td>\n",
       "      <td>0.403666</td>\n",
       "      <td>-0.576112</td>\n",
       "    </tr>\n",
       "  </tbody>\n",
       "</table>\n",
       "</div>"
      ],
      "text/plain": [
       "      Price      date     brand    profit\n",
       "A  1.449313  1.299423  0.534025  1.254572\n",
       "B -0.217559 -1.030891  0.195701 -0.128715\n",
       "C  0.076506  0.469138 -0.036342 -0.011546\n",
       "D  0.283653  0.470595 -1.844096  0.416239\n",
       "F -1.454132  0.203074  0.403666 -0.576112"
      ]
     },
     "execution_count": 2,
     "metadata": {},
     "output_type": "execute_result"
    }
   ],
   "source": [
    "import pandas as pd\n",
    "import numpy as np\n",
    "from numpy.random import randn\n",
    "\n",
    "#criei um df contendo de 5 linhas e 4 coluneas, onde seus valores serão preenchidos aleatoriamente\n",
    "df = pd.DataFrame(randn(5,4), index = ['A','B','C','D','F'], columns = ['Price','date', 'brand', 'profit'])\n",
    "df"
   ]
  },
  {
   "cell_type": "code",
   "execution_count": 3,
   "metadata": {},
   "outputs": [
    {
     "data": {
      "text/plain": [
       "Price     1.449313\n",
       "date      1.299423\n",
       "brand     0.534025\n",
       "profit    1.254572\n",
       "Name: A, dtype: float64"
      ]
     },
     "execution_count": 3,
     "metadata": {},
     "output_type": "execute_result"
    }
   ],
   "source": [
    "# seleçãor em linhas iloc, loc\n",
    "#quando uso o loc, eu posso especificar a linha que quero selecionar, \n",
    "# nesse caso ele pega os valores das colunas e trtasnforma em series\n",
    "#posso ums lista de indices\n",
    "df.loc[['A', 'B']]\n",
    "df.loc['A']\n"
   ]
  },
  {
   "cell_type": "code",
   "execution_count": 4,
   "metadata": {},
   "outputs": [
    {
     "data": {
      "text/html": [
       "<div>\n",
       "<style scoped>\n",
       "    .dataframe tbody tr th:only-of-type {\n",
       "        vertical-align: middle;\n",
       "    }\n",
       "\n",
       "    .dataframe tbody tr th {\n",
       "        vertical-align: top;\n",
       "    }\n",
       "\n",
       "    .dataframe thead th {\n",
       "        text-align: right;\n",
       "    }\n",
       "</style>\n",
       "<table border=\"1\" class=\"dataframe\">\n",
       "  <thead>\n",
       "    <tr style=\"text-align: right;\">\n",
       "      <th></th>\n",
       "      <th>Price</th>\n",
       "      <th>date</th>\n",
       "    </tr>\n",
       "  </thead>\n",
       "  <tbody>\n",
       "    <tr>\n",
       "      <th>A</th>\n",
       "      <td>1.449313</td>\n",
       "      <td>1.299423</td>\n",
       "    </tr>\n",
       "  </tbody>\n",
       "</table>\n",
       "</div>"
      ],
      "text/plain": [
       "      Price      date\n",
       "A  1.449313  1.299423"
      ]
     },
     "execution_count": 4,
     "metadata": {},
     "output_type": "execute_result"
    }
   ],
   "source": [
    "#a função iloc funciona utilizando valores de linhas e colunas, tipo uma indexação de string\n",
    "#posso passar o intervalor de linha primeiro, em seguira o intervalo das colunas\n",
    "df.iloc[0:1, 0:2]"
   ]
  },
  {
   "cell_type": "code",
   "execution_count": null,
   "metadata": {},
   "outputs": [
    {
     "data": {
      "text/html": [
       "<div>\n",
       "<style scoped>\n",
       "    .dataframe tbody tr th:only-of-type {\n",
       "        vertical-align: middle;\n",
       "    }\n",
       "\n",
       "    .dataframe tbody tr th {\n",
       "        vertical-align: top;\n",
       "    }\n",
       "\n",
       "    .dataframe thead th {\n",
       "        text-align: right;\n",
       "    }\n",
       "</style>\n",
       "<table border=\"1\" class=\"dataframe\">\n",
       "  <thead>\n",
       "    <tr style=\"text-align: right;\">\n",
       "      <th></th>\n",
       "      <th>Price</th>\n",
       "      <th>date</th>\n",
       "      <th>brand</th>\n",
       "      <th>profit</th>\n",
       "    </tr>\n",
       "  </thead>\n",
       "  <tbody>\n",
       "    <tr>\n",
       "      <th>A</th>\n",
       "      <td>1.449313</td>\n",
       "      <td>1.299423</td>\n",
       "      <td>0.534025</td>\n",
       "      <td>1.254572</td>\n",
       "    </tr>\n",
       "    <tr>\n",
       "      <th>B</th>\n",
       "      <td>NaN</td>\n",
       "      <td>NaN</td>\n",
       "      <td>0.195701</td>\n",
       "      <td>NaN</td>\n",
       "    </tr>\n",
       "    <tr>\n",
       "      <th>C</th>\n",
       "      <td>0.076506</td>\n",
       "      <td>0.469138</td>\n",
       "      <td>NaN</td>\n",
       "      <td>NaN</td>\n",
       "    </tr>\n",
       "    <tr>\n",
       "      <th>D</th>\n",
       "      <td>0.283653</td>\n",
       "      <td>0.470595</td>\n",
       "      <td>NaN</td>\n",
       "      <td>0.416239</td>\n",
       "    </tr>\n",
       "    <tr>\n",
       "      <th>F</th>\n",
       "      <td>NaN</td>\n",
       "      <td>0.203074</td>\n",
       "      <td>0.403666</td>\n",
       "      <td>NaN</td>\n",
       "    </tr>\n",
       "  </tbody>\n",
       "</table>\n",
       "</div>"
      ],
      "text/plain": [
       "      Price      date     brand    profit\n",
       "A  1.449313  1.299423  0.534025  1.254572\n",
       "B       NaN       NaN  0.195701       NaN\n",
       "C  0.076506  0.469138       NaN       NaN\n",
       "D  0.283653  0.470595       NaN  0.416239\n",
       "F       NaN  0.203074  0.403666       NaN"
      ]
     },
     "execution_count": 5,
     "metadata": {},
     "output_type": "execute_result"
    }
   ],
   "source": [
    "#seleção condicional\n",
    "#se eu eu passar somente um df > 0, ele vai retornar uma tabela booleana, do jeito seguir ele retorna um df\n",
    "#nesse df os valores false, serão NaN\n",
    "df[df > 0]"
   ]
  },
  {
   "cell_type": "code",
   "execution_count": null,
   "metadata": {},
   "outputs": [
    {
     "data": {
      "text/html": [
       "<div>\n",
       "<style scoped>\n",
       "    .dataframe tbody tr th:only-of-type {\n",
       "        vertical-align: middle;\n",
       "    }\n",
       "\n",
       "    .dataframe tbody tr th {\n",
       "        vertical-align: top;\n",
       "    }\n",
       "\n",
       "    .dataframe thead th {\n",
       "        text-align: right;\n",
       "    }\n",
       "</style>\n",
       "<table border=\"1\" class=\"dataframe\">\n",
       "  <thead>\n",
       "    <tr style=\"text-align: right;\">\n",
       "      <th></th>\n",
       "      <th>Price</th>\n",
       "      <th>date</th>\n",
       "      <th>brand</th>\n",
       "      <th>profit</th>\n",
       "    </tr>\n",
       "  </thead>\n",
       "  <tbody>\n",
       "    <tr>\n",
       "      <th>A</th>\n",
       "      <td>1.449313</td>\n",
       "      <td>1.299423</td>\n",
       "      <td>0.534025</td>\n",
       "      <td>1.254572</td>\n",
       "    </tr>\n",
       "    <tr>\n",
       "      <th>D</th>\n",
       "      <td>0.283653</td>\n",
       "      <td>0.470595</td>\n",
       "      <td>-1.844096</td>\n",
       "      <td>0.416239</td>\n",
       "    </tr>\n",
       "  </tbody>\n",
       "</table>\n",
       "</div>"
      ],
      "text/plain": [
       "      Price      date     brand    profit\n",
       "A  1.449313  1.299423  0.534025  1.254572\n",
       "D  0.283653  0.470595 -1.844096  0.416239"
      ]
     },
     "execution_count": 6,
     "metadata": {},
     "output_type": "execute_result"
    }
   ],
   "source": [
    "#selecionando os eles de uma coluna com condicional\n",
    "#ele retorna os indices (linhas) em que a condição nao atende\n",
    "df[df['profit'] > 0]"
   ]
  },
  {
   "cell_type": "code",
   "execution_count": 7,
   "metadata": {},
   "outputs": [
    {
     "data": {
      "text/html": [
       "<div>\n",
       "<style scoped>\n",
       "    .dataframe tbody tr th:only-of-type {\n",
       "        vertical-align: middle;\n",
       "    }\n",
       "\n",
       "    .dataframe tbody tr th {\n",
       "        vertical-align: top;\n",
       "    }\n",
       "\n",
       "    .dataframe thead th {\n",
       "        text-align: right;\n",
       "    }\n",
       "</style>\n",
       "<table border=\"1\" class=\"dataframe\">\n",
       "  <thead>\n",
       "    <tr style=\"text-align: right;\">\n",
       "      <th></th>\n",
       "      <th>Price</th>\n",
       "      <th>date</th>\n",
       "      <th>brand</th>\n",
       "      <th>profit</th>\n",
       "    </tr>\n",
       "  </thead>\n",
       "  <tbody>\n",
       "    <tr>\n",
       "      <th>A</th>\n",
       "      <td>1.449313</td>\n",
       "      <td>1.299423</td>\n",
       "      <td>0.534025</td>\n",
       "      <td>1.254572</td>\n",
       "    </tr>\n",
       "    <tr>\n",
       "      <th>B</th>\n",
       "      <td>-0.217559</td>\n",
       "      <td>-1.030891</td>\n",
       "      <td>0.195701</td>\n",
       "      <td>-0.128715</td>\n",
       "    </tr>\n",
       "    <tr>\n",
       "      <th>C</th>\n",
       "      <td>0.076506</td>\n",
       "      <td>0.469138</td>\n",
       "      <td>-0.036342</td>\n",
       "      <td>-0.011546</td>\n",
       "    </tr>\n",
       "    <tr>\n",
       "      <th>D</th>\n",
       "      <td>0.283653</td>\n",
       "      <td>0.470595</td>\n",
       "      <td>-1.844096</td>\n",
       "      <td>0.416239</td>\n",
       "    </tr>\n",
       "    <tr>\n",
       "      <th>F</th>\n",
       "      <td>-1.454132</td>\n",
       "      <td>0.203074</td>\n",
       "      <td>0.403666</td>\n",
       "      <td>-0.576112</td>\n",
       "    </tr>\n",
       "  </tbody>\n",
       "</table>\n",
       "</div>"
      ],
      "text/plain": [
       "      Price      date     brand    profit\n",
       "A  1.449313  1.299423  0.534025  1.254572\n",
       "B -0.217559 -1.030891  0.195701 -0.128715\n",
       "C  0.076506  0.469138 -0.036342 -0.011546\n",
       "D  0.283653  0.470595 -1.844096  0.416239\n",
       "F -1.454132  0.203074  0.403666 -0.576112"
      ]
     },
     "execution_count": 7,
     "metadata": {},
     "output_type": "execute_result"
    }
   ],
   "source": [
    "df"
   ]
  },
  {
   "cell_type": "code",
   "execution_count": 12,
   "metadata": {},
   "outputs": [
    {
     "data": {
      "text/html": [
       "<div>\n",
       "<style scoped>\n",
       "    .dataframe tbody tr th:only-of-type {\n",
       "        vertical-align: middle;\n",
       "    }\n",
       "\n",
       "    .dataframe tbody tr th {\n",
       "        vertical-align: top;\n",
       "    }\n",
       "\n",
       "    .dataframe thead th {\n",
       "        text-align: right;\n",
       "    }\n",
       "</style>\n",
       "<table border=\"1\" class=\"dataframe\">\n",
       "  <thead>\n",
       "    <tr style=\"text-align: right;\">\n",
       "      <th></th>\n",
       "      <th>Price</th>\n",
       "      <th>date</th>\n",
       "      <th>brand</th>\n",
       "      <th>profit</th>\n",
       "    </tr>\n",
       "  </thead>\n",
       "  <tbody>\n",
       "    <tr>\n",
       "      <th>A</th>\n",
       "      <td>1.449313</td>\n",
       "      <td>1.299423</td>\n",
       "      <td>0.534025</td>\n",
       "      <td>1.254572</td>\n",
       "    </tr>\n",
       "    <tr>\n",
       "      <th>C</th>\n",
       "      <td>0.076506</td>\n",
       "      <td>0.469138</td>\n",
       "      <td>-0.036342</td>\n",
       "      <td>-0.011546</td>\n",
       "    </tr>\n",
       "    <tr>\n",
       "      <th>D</th>\n",
       "      <td>0.283653</td>\n",
       "      <td>0.470595</td>\n",
       "      <td>-1.844096</td>\n",
       "      <td>0.416239</td>\n",
       "    </tr>\n",
       "  </tbody>\n",
       "</table>\n",
       "</div>"
      ],
      "text/plain": [
       "      Price      date     brand    profit\n",
       "A  1.449313  1.299423  0.534025  1.254572\n",
       "C  0.076506  0.469138 -0.036342 -0.011546\n",
       "D  0.283653  0.470595 -1.844096  0.416239"
      ]
     },
     "execution_count": 12,
     "metadata": {},
     "output_type": "execute_result"
    }
   ],
   "source": [
    "#usando mais de uma seleção\n",
    "#obs, no pandas os operadores and == & e or == |\n",
    "\n",
    "#colocamos cada condição entre paresentes\n",
    "\n",
    "df[(df['Price'] > 0) | ( df['profit'] > 0)]"
   ]
  },
  {
   "cell_type": "code",
   "execution_count": null,
   "metadata": {},
   "outputs": [],
   "source": []
  },
  {
   "cell_type": "code",
   "execution_count": null,
   "metadata": {},
   "outputs": [],
   "source": []
  }
 ],
 "metadata": {
  "kernelspec": {
   "display_name": "base",
   "language": "python",
   "name": "python3"
  },
  "language_info": {
   "codemirror_mode": {
    "name": "ipython",
    "version": 3
   },
   "file_extension": ".py",
   "mimetype": "text/x-python",
   "name": "python",
   "nbconvert_exporter": "python",
   "pygments_lexer": "ipython3",
   "version": "3.12.7"
  }
 },
 "nbformat": 4,
 "nbformat_minor": 2
}
