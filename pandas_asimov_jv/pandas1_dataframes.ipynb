{
 "cells": [
  {
   "cell_type": "code",
   "execution_count": 2,
   "metadata": {},
   "outputs": [],
   "source": [
    "import pandas as pd\n",
    "import numpy as np\n",
    "from numpy.random import randn"
   ]
  },
  {
   "cell_type": "code",
   "execution_count": null,
   "metadata": {},
   "outputs": [
    {
     "data": {
      "text/html": [
       "<div>\n",
       "<style scoped>\n",
       "    .dataframe tbody tr th:only-of-type {\n",
       "        vertical-align: middle;\n",
       "    }\n",
       "\n",
       "    .dataframe tbody tr th {\n",
       "        vertical-align: top;\n",
       "    }\n",
       "\n",
       "    .dataframe thead th {\n",
       "        text-align: right;\n",
       "    }\n",
       "</style>\n",
       "<table border=\"1\" class=\"dataframe\">\n",
       "  <thead>\n",
       "    <tr style=\"text-align: right;\">\n",
       "      <th></th>\n",
       "      <th>Price</th>\n",
       "      <th>date</th>\n",
       "      <th>brand</th>\n",
       "      <th>profit</th>\n",
       "    </tr>\n",
       "  </thead>\n",
       "  <tbody>\n",
       "    <tr>\n",
       "      <th>A</th>\n",
       "      <td>-0.102353</td>\n",
       "      <td>0.390525</td>\n",
       "      <td>1.725532</td>\n",
       "      <td>-0.733659</td>\n",
       "    </tr>\n",
       "    <tr>\n",
       "      <th>B</th>\n",
       "      <td>-0.686711</td>\n",
       "      <td>1.229652</td>\n",
       "      <td>-3.026432</td>\n",
       "      <td>-0.177705</td>\n",
       "    </tr>\n",
       "    <tr>\n",
       "      <th>C</th>\n",
       "      <td>-0.387002</td>\n",
       "      <td>-0.639270</td>\n",
       "      <td>0.868014</td>\n",
       "      <td>-1.027530</td>\n",
       "    </tr>\n",
       "    <tr>\n",
       "      <th>D</th>\n",
       "      <td>-0.920299</td>\n",
       "      <td>0.672535</td>\n",
       "      <td>1.074852</td>\n",
       "      <td>-0.797856</td>\n",
       "    </tr>\n",
       "    <tr>\n",
       "      <th>F</th>\n",
       "      <td>-1.109154</td>\n",
       "      <td>0.001664</td>\n",
       "      <td>0.582928</td>\n",
       "      <td>-1.050969</td>\n",
       "    </tr>\n",
       "  </tbody>\n",
       "</table>\n",
       "</div>"
      ],
      "text/plain": [
       "      Price      date     brand    profit\n",
       "A -0.102353  0.390525  1.725532 -0.733659\n",
       "B -0.686711  1.229652 -3.026432 -0.177705\n",
       "C -0.387002 -0.639270  0.868014 -1.027530\n",
       "D -0.920299  0.672535  1.074852 -0.797856\n",
       "F -1.109154  0.001664  0.582928 -1.050969"
      ]
     },
     "execution_count": 5,
     "metadata": {},
     "output_type": "execute_result"
    }
   ],
   "source": [
    "#criei um df contendo de 5 linhas e 4 coluneas, onde seus valores serão preenchidos aleatoriamente\n",
    "df = pd.DataFrame(randn(5,4), index = ['A','B','C','D','F'], columns = ['Price','date', 'brand', 'profit'])\n",
    "df"
   ]
  },
  {
   "cell_type": "code",
   "execution_count": null,
   "metadata": {},
   "outputs": [
    {
     "data": {
      "text/html": [
       "<div>\n",
       "<style scoped>\n",
       "    .dataframe tbody tr th:only-of-type {\n",
       "        vertical-align: middle;\n",
       "    }\n",
       "\n",
       "    .dataframe tbody tr th {\n",
       "        vertical-align: top;\n",
       "    }\n",
       "\n",
       "    .dataframe thead th {\n",
       "        text-align: right;\n",
       "    }\n",
       "</style>\n",
       "<table border=\"1\" class=\"dataframe\">\n",
       "  <thead>\n",
       "    <tr style=\"text-align: right;\">\n",
       "      <th></th>\n",
       "      <th>Price</th>\n",
       "      <th>date</th>\n",
       "    </tr>\n",
       "  </thead>\n",
       "  <tbody>\n",
       "    <tr>\n",
       "      <th>A</th>\n",
       "      <td>-0.102353</td>\n",
       "      <td>0.390525</td>\n",
       "    </tr>\n",
       "    <tr>\n",
       "      <th>B</th>\n",
       "      <td>-0.686711</td>\n",
       "      <td>1.229652</td>\n",
       "    </tr>\n",
       "    <tr>\n",
       "      <th>C</th>\n",
       "      <td>-0.387002</td>\n",
       "      <td>-0.639270</td>\n",
       "    </tr>\n",
       "    <tr>\n",
       "      <th>D</th>\n",
       "      <td>-0.920299</td>\n",
       "      <td>0.672535</td>\n",
       "    </tr>\n",
       "    <tr>\n",
       "      <th>F</th>\n",
       "      <td>-1.109154</td>\n",
       "      <td>0.001664</td>\n",
       "    </tr>\n",
       "  </tbody>\n",
       "</table>\n",
       "</div>"
      ],
      "text/plain": [
       "      Price      date\n",
       "A -0.102353  0.390525\n",
       "B -0.686711  1.229652\n",
       "C -0.387002 -0.639270\n",
       "D -0.920299  0.672535\n",
       "F -1.109154  0.001664"
      ]
     },
     "execution_count": 9,
     "metadata": {},
     "output_type": "execute_result"
    }
   ],
   "source": [
    "#selecionando com o operador []\n",
    "#nesse caso seleciona a coluna\n",
    "\n",
    "df['Price']\n",
    "#aqui me retorna so uma series\n",
    "\n",
    "#posso passar uma lista de colunas\n",
    "df[['Price', 'date']]\n",
    "#repare que dessa forma, retorna um data frame"
   ]
  },
  {
   "cell_type": "code",
   "execution_count": 21,
   "metadata": {},
   "outputs": [
    {
     "data": {
      "text/html": [
       "<div>\n",
       "<style scoped>\n",
       "    .dataframe tbody tr th:only-of-type {\n",
       "        vertical-align: middle;\n",
       "    }\n",
       "\n",
       "    .dataframe tbody tr th {\n",
       "        vertical-align: top;\n",
       "    }\n",
       "\n",
       "    .dataframe thead th {\n",
       "        text-align: right;\n",
       "    }\n",
       "</style>\n",
       "<table border=\"1\" class=\"dataframe\">\n",
       "  <thead>\n",
       "    <tr style=\"text-align: right;\">\n",
       "      <th></th>\n",
       "      <th>Price</th>\n",
       "      <th>date</th>\n",
       "      <th>brand</th>\n",
       "      <th>profit</th>\n",
       "      <th>new</th>\n",
       "    </tr>\n",
       "  </thead>\n",
       "  <tbody>\n",
       "    <tr>\n",
       "      <th>A</th>\n",
       "      <td>-0.102353</td>\n",
       "      <td>0.390525</td>\n",
       "      <td>1.725532</td>\n",
       "      <td>-0.733659</td>\n",
       "      <td>-0.102353</td>\n",
       "    </tr>\n",
       "    <tr>\n",
       "      <th>B</th>\n",
       "      <td>-0.686711</td>\n",
       "      <td>1.229652</td>\n",
       "      <td>-3.026432</td>\n",
       "      <td>-0.177705</td>\n",
       "      <td>-0.686711</td>\n",
       "    </tr>\n",
       "    <tr>\n",
       "      <th>C</th>\n",
       "      <td>-0.387002</td>\n",
       "      <td>-0.639270</td>\n",
       "      <td>0.868014</td>\n",
       "      <td>-1.027530</td>\n",
       "      <td>-0.387002</td>\n",
       "    </tr>\n",
       "    <tr>\n",
       "      <th>D</th>\n",
       "      <td>-0.920299</td>\n",
       "      <td>0.672535</td>\n",
       "      <td>1.074852</td>\n",
       "      <td>-0.797856</td>\n",
       "      <td>-0.920299</td>\n",
       "    </tr>\n",
       "    <tr>\n",
       "      <th>F</th>\n",
       "      <td>-1.109154</td>\n",
       "      <td>0.001664</td>\n",
       "      <td>0.582928</td>\n",
       "      <td>-1.050969</td>\n",
       "      <td>-1.109154</td>\n",
       "    </tr>\n",
       "  </tbody>\n",
       "</table>\n",
       "</div>"
      ],
      "text/plain": [
       "      Price      date     brand    profit       new\n",
       "A -0.102353  0.390525  1.725532 -0.733659 -0.102353\n",
       "B -0.686711  1.229652 -3.026432 -0.177705 -0.686711\n",
       "C -0.387002 -0.639270  0.868014 -1.027530 -0.387002\n",
       "D -0.920299  0.672535  1.074852 -0.797856 -0.920299\n",
       "F -1.109154  0.001664  0.582928 -1.050969 -1.109154"
      ]
     },
     "execution_count": 21,
     "metadata": {},
     "output_type": "execute_result"
    }
   ],
   "source": [
    "#criando uma coluna\n",
    "df['new'] = df['Price']\n",
    "df"
   ]
  },
  {
   "cell_type": "code",
   "execution_count": 23,
   "metadata": {},
   "outputs": [
    {
     "data": {
      "text/html": [
       "<div>\n",
       "<style scoped>\n",
       "    .dataframe tbody tr th:only-of-type {\n",
       "        vertical-align: middle;\n",
       "    }\n",
       "\n",
       "    .dataframe tbody tr th {\n",
       "        vertical-align: top;\n",
       "    }\n",
       "\n",
       "    .dataframe thead th {\n",
       "        text-align: right;\n",
       "    }\n",
       "</style>\n",
       "<table border=\"1\" class=\"dataframe\">\n",
       "  <thead>\n",
       "    <tr style=\"text-align: right;\">\n",
       "      <th></th>\n",
       "      <th>Price</th>\n",
       "      <th>date</th>\n",
       "      <th>brand</th>\n",
       "      <th>profit</th>\n",
       "    </tr>\n",
       "  </thead>\n",
       "  <tbody>\n",
       "    <tr>\n",
       "      <th>A</th>\n",
       "      <td>-0.102353</td>\n",
       "      <td>0.390525</td>\n",
       "      <td>1.725532</td>\n",
       "      <td>-0.733659</td>\n",
       "    </tr>\n",
       "    <tr>\n",
       "      <th>B</th>\n",
       "      <td>-0.686711</td>\n",
       "      <td>1.229652</td>\n",
       "      <td>-3.026432</td>\n",
       "      <td>-0.177705</td>\n",
       "    </tr>\n",
       "    <tr>\n",
       "      <th>C</th>\n",
       "      <td>-0.387002</td>\n",
       "      <td>-0.639270</td>\n",
       "      <td>0.868014</td>\n",
       "      <td>-1.027530</td>\n",
       "    </tr>\n",
       "    <tr>\n",
       "      <th>D</th>\n",
       "      <td>-0.920299</td>\n",
       "      <td>0.672535</td>\n",
       "      <td>1.074852</td>\n",
       "      <td>-0.797856</td>\n",
       "    </tr>\n",
       "    <tr>\n",
       "      <th>F</th>\n",
       "      <td>-1.109154</td>\n",
       "      <td>0.001664</td>\n",
       "      <td>0.582928</td>\n",
       "      <td>-1.050969</td>\n",
       "    </tr>\n",
       "  </tbody>\n",
       "</table>\n",
       "</div>"
      ],
      "text/plain": [
       "      Price      date     brand    profit\n",
       "A -0.102353  0.390525  1.725532 -0.733659\n",
       "B -0.686711  1.229652 -3.026432 -0.177705\n",
       "C -0.387002 -0.639270  0.868014 -1.027530\n",
       "D -0.920299  0.672535  1.074852 -0.797856\n",
       "F -1.109154  0.001664  0.582928 -1.050969"
      ]
     },
     "execution_count": 23,
     "metadata": {},
     "output_type": "execute_result"
    }
   ],
   "source": [
    "#apagando uma coluna, preciso passar o eixo. 1 = coluna, 0= linha\n",
    "df.drop('new', axis=1, inplace= True)\n",
    "\n",
    "\n",
    "#OBS: o pandas nunca altera o df original, ele altera uma cópia e te entrega para vc trabalhar com ela,\n",
    "#prova disso é se vc der um df apos ter inserido e depois retirado, ele vai voltar o df com a coluna inserida ainda\n",
    "\n",
    "#se quiser alterar o df original, deve colocar o metodo inplace\n",
    "df"
   ]
  },
  {
   "cell_type": "code",
   "execution_count": null,
   "metadata": {},
   "outputs": [
    {
     "data": {
      "text/plain": [
       "Price    -0.102353\n",
       "date      0.390525\n",
       "brand     1.725532\n",
       "profit   -0.733659\n",
       "Name: A, dtype: float64"
      ]
     },
     "execution_count": 39,
     "metadata": {},
     "output_type": "execute_result"
    }
   ],
   "source": [
    "# seleçãor em linhas iloc, loc\n",
    "#quando uso o loc, eu posso especificar a linha que quero selecionar, \n",
    "# nesse caso ele pega os valores das colunas e trtasnforma em series\n",
    "#posso ums lista de indices\n",
    "df.loc[['A', 'B']]\n",
    "df.loc['A']\n"
   ]
  },
  {
   "cell_type": "code",
   "execution_count": 32,
   "metadata": {},
   "outputs": [
    {
     "data": {
      "text/html": [
       "<div>\n",
       "<style scoped>\n",
       "    .dataframe tbody tr th:only-of-type {\n",
       "        vertical-align: middle;\n",
       "    }\n",
       "\n",
       "    .dataframe tbody tr th {\n",
       "        vertical-align: top;\n",
       "    }\n",
       "\n",
       "    .dataframe thead th {\n",
       "        text-align: right;\n",
       "    }\n",
       "</style>\n",
       "<table border=\"1\" class=\"dataframe\">\n",
       "  <thead>\n",
       "    <tr style=\"text-align: right;\">\n",
       "      <th></th>\n",
       "      <th>Price</th>\n",
       "      <th>date</th>\n",
       "    </tr>\n",
       "  </thead>\n",
       "  <tbody>\n",
       "    <tr>\n",
       "      <th>A</th>\n",
       "      <td>-0.102353</td>\n",
       "      <td>0.390525</td>\n",
       "    </tr>\n",
       "  </tbody>\n",
       "</table>\n",
       "</div>"
      ],
      "text/plain": [
       "      Price      date\n",
       "A -0.102353  0.390525"
      ]
     },
     "execution_count": 32,
     "metadata": {},
     "output_type": "execute_result"
    }
   ],
   "source": [
    "#a função iloc funciona utilizando valores de linhas e colunas, tipo uma indexação de string\n",
    "#posso passar o intervalor de linha primeiro, em seguira o intervalo das colunas\n",
    "df.iloc[0:1, 0:2]"
   ]
  },
  {
   "cell_type": "code",
   "execution_count": null,
   "metadata": {},
   "outputs": [
    {
     "data": {
      "text/html": [
       "<div>\n",
       "<style scoped>\n",
       "    .dataframe tbody tr th:only-of-type {\n",
       "        vertical-align: middle;\n",
       "    }\n",
       "\n",
       "    .dataframe tbody tr th {\n",
       "        vertical-align: top;\n",
       "    }\n",
       "\n",
       "    .dataframe thead th {\n",
       "        text-align: right;\n",
       "    }\n",
       "</style>\n",
       "<table border=\"1\" class=\"dataframe\">\n",
       "  <thead>\n",
       "    <tr style=\"text-align: right;\">\n",
       "      <th></th>\n",
       "      <th>brand</th>\n",
       "      <th>profit</th>\n",
       "    </tr>\n",
       "  </thead>\n",
       "  <tbody>\n",
       "    <tr>\n",
       "      <th>A</th>\n",
       "      <td>1.725532</td>\n",
       "      <td>-0.733659</td>\n",
       "    </tr>\n",
       "    <tr>\n",
       "      <th>B</th>\n",
       "      <td>-3.026432</td>\n",
       "      <td>-0.177705</td>\n",
       "    </tr>\n",
       "    <tr>\n",
       "      <th>C</th>\n",
       "      <td>0.868014</td>\n",
       "      <td>-1.027530</td>\n",
       "    </tr>\n",
       "    <tr>\n",
       "      <th>D</th>\n",
       "      <td>1.074852</td>\n",
       "      <td>-0.797856</td>\n",
       "    </tr>\n",
       "  </tbody>\n",
       "</table>\n",
       "</div>"
      ],
      "text/plain": [
       "      brand    profit\n",
       "A  1.725532 -0.733659\n",
       "B -3.026432 -0.177705\n",
       "C  0.868014 -1.027530\n",
       "D  1.074852 -0.797856"
      ]
     },
     "execution_count": 38,
     "metadata": {},
     "output_type": "execute_result"
    }
   ],
   "source": [
    "df.iloc[:-1,2:]"
   ]
  }
 ],
 "metadata": {
  "kernelspec": {
   "display_name": "base",
   "language": "python",
   "name": "python3"
  },
  "language_info": {
   "codemirror_mode": {
    "name": "ipython",
    "version": 3
   },
   "file_extension": ".py",
   "mimetype": "text/x-python",
   "name": "python",
   "nbconvert_exporter": "python",
   "pygments_lexer": "ipython3",
   "version": "3.12.7"
  }
 },
 "nbformat": 4,
 "nbformat_minor": 2
}
