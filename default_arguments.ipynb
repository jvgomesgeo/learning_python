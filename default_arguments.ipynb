{
 "cells": [
  {
   "cell_type": "code",
   "execution_count": 3,
   "metadata": {},
   "outputs": [
    {
     "name": "stdout",
     "output_type": "stream",
     "text": [
      "525.0\n"
     ]
    }
   ],
   "source": [
    "#deafult arguments = A default value for certain parameters\n",
    "#                   default is used when that argument is omitted\n",
    "#                      makew your functios more flexible, reduces # of aruments\n",
    "\n",
    "\n",
    "def net_price(list_price, discount = 0, tax = 0.05):\n",
    "    \n",
    "    \n",
    "    return list_price * (1 - discount) * (1 + tax)\n",
    "\n",
    "\n",
    "print(net_price(500))"
   ]
  },
  {
   "cell_type": "code",
   "execution_count": 5,
   "metadata": {},
   "outputs": [
    {
     "name": "stdout",
     "output_type": "stream",
     "text": [
      "1\n",
      "2\n",
      "3\n",
      "4\n",
      "5\n",
      "6\n",
      "7\n",
      "8\n",
      "9\n",
      "10\n",
      "11\n",
      "DONE\n"
     ]
    }
   ],
   "source": [
    "import time\n",
    "def count(start, end):\n",
    "    for x in range(start, end +1):\n",
    "        print(x)\n",
    "        time.sleep(1)\n",
    "    \n",
    "    print(\"DONE\")\n",
    "\n",
    "\n",
    "count(1,11)"
   ]
  }
 ],
 "metadata": {
  "kernelspec": {
   "display_name": "base",
   "language": "python",
   "name": "python3"
  },
  "language_info": {
   "codemirror_mode": {
    "name": "ipython",
    "version": 3
   },
   "file_extension": ".py",
   "mimetype": "text/x-python",
   "name": "python",
   "nbconvert_exporter": "python",
   "pygments_lexer": "ipython3",
   "version": "3.12.7"
  }
 },
 "nbformat": 4,
 "nbformat_minor": 2
}
