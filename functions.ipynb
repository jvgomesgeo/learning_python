{
 "cells": [
  {
   "cell_type": "code",
   "execution_count": null,
   "metadata": {},
   "outputs": [
    {
     "name": "stdout",
     "output_type": "stream",
     "text": [
      "Happy Birthday to you José, you have 28\n",
      "Happy Birthday to you José, you have 28\n",
      "Happy Birthday to you José, you have 28\n",
      "Happy Birthday to you José, you have 28\n"
     ]
    }
   ],
   "source": [
    "#function  = A block of resuable code \n",
    "            # place () after the function name to invoke it\n",
    "\n",
    "def happy_birthday(name, age):\n",
    "    print(f\"Happy Birthday to you {name}, you have {age} years old\")\n",
    "    print(f\"Happy Birthday to you {name}, you have {age}\")\n",
    "    print(f\"Happy Birthday to you {name}, you have {age}\")\n",
    "    print(f\"Happy Birthday to you {name}, you have {age}\")\n",
    "    \n",
    "\n",
    "\n",
    "\n",
    "happy_birthday(\"José\",28)"
   ]
  },
  {
   "cell_type": "code",
   "execution_count": 4,
   "metadata": {},
   "outputs": [
    {
     "name": "stdout",
     "output_type": "stream",
     "text": [
      "Hello vitimpbi !\n",
      "Your bill of $30.50 is due: 01/03\n"
     ]
    }
   ],
   "source": [
    "def display_invoice(username, amount, due_date):\n",
    "    print(f\"Hello {username} !\")\n",
    "    print(f\"Your bill of ${amount:.2f} is due: {due_date}\")\n",
    "\n",
    "\n",
    "display_invoice(\"vitimpbi\", 30.5, \"01/03\")\n",
    "\n"
   ]
  },
  {
   "cell_type": "code",
   "execution_count": 9,
   "metadata": {},
   "outputs": [
    {
     "name": "stdout",
     "output_type": "stream",
     "text": [
      "3\n",
      "2\n",
      "4\n",
      "2.0\n"
     ]
    }
   ],
   "source": [
    "def add(x, y):\n",
    "    z = x + y\n",
    "    return z\n",
    "\n",
    "\n",
    "def subtract(x, y):\n",
    "    z = x - y\n",
    "    return z\n",
    "\n",
    "\n",
    "def multiply(x, y):\n",
    "    z = x * y\n",
    "    return z\n",
    "\n",
    "def divide(x, y):\n",
    "    z = x / y\n",
    "    return z\n",
    "\n",
    "print(add(2,1))\n",
    "print(subtract(3,1))\n",
    "print(multiply(2,2))\n",
    "print(divide(10,5))"
   ]
  },
  {
   "cell_type": "code",
   "execution_count": 18,
   "metadata": {},
   "outputs": [
    {
     "name": "stdout",
     "output_type": "stream",
     "text": [
      "JOSE VICTOR GOMES DE ASEVEDO\n"
     ]
    }
   ],
   "source": [
    "def create_name(first_name, last_name):\n",
    "    \n",
    "\n",
    "    return first_name.upper() + ' ' + last_name.upper()\n",
    "\n",
    "\n",
    "full_name = create_name(\"Jose Victor\", \"Gomes de Asevedo\")\n",
    "print(full_name)"
   ]
  }
 ],
 "metadata": {
  "kernelspec": {
   "display_name": "Python 3",
   "language": "python",
   "name": "python3"
  },
  "language_info": {
   "codemirror_mode": {
    "name": "ipython",
    "version": 3
   },
   "file_extension": ".py",
   "mimetype": "text/x-python",
   "name": "python",
   "nbconvert_exporter": "python",
   "pygments_lexer": "ipython3",
   "version": "3.12.2"
  }
 },
 "nbformat": 4,
 "nbformat_minor": 2
}
