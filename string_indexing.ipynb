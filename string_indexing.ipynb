{
 "cells": [
  {
   "cell_type": "code",
   "execution_count": 37,
   "metadata": {},
   "outputs": [],
   "source": [
    "#indenxig = acces elements of a sequence using []\n",
    "#[start: end : step]\n",
    "#contando no sentido certo (inicio para o fim da string), o valor do inicio tem que ser maior que o valor do fim, e o step tem que ser positivo\n",
    "#contando no sentido errado (fim para o inicio da string), o valor do inicio tem que ser maior que o valor do fim, e o step tem que ser negativo\n",
    "#se eu n preencher o fim, no caso da contagem no sentido certo, o python vai entender que é para pegar todo o resto ate o final da string\n",
    "#se eu n preencher o inicio, no caso da contagem no sentido errado, o python vai entender que é para pegar todo o resto ate o inicio da string\n",
    "\n",
    "string = \"Jose Victor Gomes de Asevedo\"\n",
    "number_phone  =  \"5524-992707890\"\n",
    "\n"
   ]
  },
  {
   "cell_type": "code",
   "execution_count": 28,
   "metadata": {},
   "outputs": [
    {
     "data": {
      "text/plain": [
       "'J'"
      ]
     },
     "execution_count": 28,
     "metadata": {},
     "output_type": "execute_result"
    }
   ],
   "source": [
    "#pegar o elemento pelo indicio\n",
    "string[0]"
   ]
  },
  {
   "cell_type": "code",
   "execution_count": null,
   "metadata": {},
   "outputs": [
    {
     "data": {
      "text/plain": [
       "'o'"
      ]
     },
     "execution_count": 30,
     "metadata": {},
     "output_type": "execute_result"
    }
   ],
   "source": [
    "#pegar o primeiro elemento contando de tras para frente\n",
    "string[-1]\n",
    "\n",
    "#pode ser string[-2] e assim sucessivamente"
   ]
  },
  {
   "cell_type": "code",
   "execution_count": null,
   "metadata": {},
   "outputs": [
    {
     "data": {
      "text/plain": [
       "''"
      ]
     },
     "execution_count": 17,
     "metadata": {},
     "output_type": "execute_result"
    }
   ],
   "source": [
    "#pegar do primeiro ao quinto elemento, ele não exclui o ultimo elemento igual a função range\n",
    "string[0:5]"
   ]
  },
  {
   "cell_type": "code",
   "execution_count": null,
   "metadata": {},
   "outputs": [
    {
     "data": {
      "text/plain": [
       "'se Victor Gomes de Asevedo'"
      ]
     },
     "execution_count": 31,
     "metadata": {},
     "output_type": "execute_result"
    }
   ],
   "source": [
    "#se eu n preencher o fim, no caso da contagem no sentido certo, o python vai entender que é para pegar todo o resto\n",
    "string[2:]"
   ]
  },
  {
   "cell_type": "code",
   "execution_count": null,
   "metadata": {},
   "outputs": [
    {
     "data": {
      "text/plain": [
       "'Jose Victor Gomes de Aseve'"
      ]
     },
     "execution_count": 33,
     "metadata": {},
     "output_type": "execute_result"
    }
   ],
   "source": [
    "#se eu n preencher o inicio, no caso da contagem no sentido errado, o python vai entender que é para pegar todo o resto ate o inicio da string\n",
    "#nesse caso ira retornar toda a string, menos os dois ultimos indices\n",
    "string[:-2]"
   ]
  },
  {
   "cell_type": "code",
   "execution_count": null,
   "metadata": {},
   "outputs": [
    {
     "data": {
      "text/plain": [
       "'Js itrGmsd svd'"
      ]
     },
     "execution_count": 34,
     "metadata": {},
     "output_type": "execute_result"
    }
   ],
   "source": [
    "#inserindo steps, ira pular de dois em 2 nesse caso\n",
    "string[::2]"
   ]
  },
  {
   "cell_type": "code",
   "execution_count": null,
   "metadata": {},
   "outputs": [],
   "source": [
    "string[::-1]"
   ]
  },
  {
   "cell_type": "code",
   "execution_count": 35,
   "metadata": {},
   "outputs": [
    {
     "data": {
      "text/plain": [
       "'Jose Victor'"
      ]
     },
     "execution_count": 35,
     "metadata": {},
     "output_type": "execute_result"
    }
   ],
   "source": [
    "#pegar com steps\n",
    "\n",
    "string[0:11:1]"
   ]
  },
  {
   "cell_type": "code",
   "execution_count": null,
   "metadata": {},
   "outputs": [],
   "source": [
    "string[11:0:-1]"
   ]
  },
  {
   "cell_type": "code",
   "execution_count": 38,
   "metadata": {},
   "outputs": [
    {
     "name": "stdout",
     "output_type": "stream",
     "text": [
      "Os primeiros numeros do seu celular são: 5524\n",
      "Os últimos numeros do seu celular são: 7890\n"
     ]
    }
   ],
   "source": [
    "#EXERCICIO: \n",
    "#A)OMITA OS QUATRO PRIMEIOS NUMEROS DA STRING DE PHONE NUMBER\n",
    "#B) OMITA OS QUATRO ULTIMOS NUMEROS DA STRING DE PHONE NUMBER\n",
    "\n",
    "print(f'Os primeiros numeros do seu celular são: {number_phone[0:4]}')\n",
    "print(f\"Os últimos numeros do seu celular são: {number_phone[-4:]}\")"
   ]
  }
 ],
 "metadata": {
  "kernelspec": {
   "display_name": "Python 3",
   "language": "python",
   "name": "python3"
  },
  "language_info": {
   "codemirror_mode": {
    "name": "ipython",
    "version": 3
   },
   "file_extension": ".py",
   "mimetype": "text/x-python",
   "name": "python",
   "nbconvert_exporter": "python",
   "pygments_lexer": "ipython3",
   "version": "3.12.2"
  }
 },
 "nbformat": 4,
 "nbformat_minor": 2
}
