{
 "cells": [
  {
   "cell_type": "code",
   "execution_count": 2,
   "metadata": {},
   "outputs": [
    {
     "name": "stdout",
     "output_type": "stream",
     "text": [
      "Python Number Guessing Game \n",
      "Select a Number between 1 and 50\n",
      "Its low, the answer is higher than thar\n",
      "Its low, the answer is higher than thar\n",
      "Its low, the answer is higher than thar\n",
      "Its high, the answer is lower than thar\n",
      "Its correct, the number is 35\n",
      "You needed 5 guesses\n"
     ]
    }
   ],
   "source": [
    "import random\n",
    "\n",
    "lowest_number = 1\n",
    "highest_number = 50\n",
    "answer = random.randint(lowest_number,highest_number)\n",
    "guesses = 0\n",
    "\n",
    "print(\"Python Number Guessing Game \")\n",
    "print(f\"Select a Number between {lowest_number} and {highest_number}\")\n",
    "\n",
    "while True:\n",
    "    guess = input(\"Enter your number (press letter to break):\")\n",
    "\n",
    "    if guess.isdigit(): #confere se o valor da string do input é um digito, que pode ser transoformado em int         \n",
    "        guess = int(guess)      #transformou em int\n",
    "        guesses += 1            #Acumulou as tentativas\n",
    "\n",
    "        if guess < lowest_number or guess > highest_number: \n",
    "            print(\"That number is out of range\")\n",
    "            print(f\"Select a Number between {lowest_number} and {highest_number}\")\n",
    "        \n",
    "        elif guess < answer:\n",
    "            print(\"Its low, the answer is higher than thar\")\n",
    "\n",
    "\n",
    "        elif guess > answer:\n",
    "            print(\"Its high, the answer is lower than thar\")\n",
    "\n",
    "        else:\n",
    "            print(f\"Its correct, the number is {answer}\")\n",
    "            print(f\"You needed {guesses} guesses\")\n",
    "            break\n",
    "    else: \n",
    "        print(\"Invalid guess\")\n",
    "        print(f\"Select a Number between {lowest_number} and {highest_number}\")\n",
    "\n"
   ]
  }
 ],
 "metadata": {
  "kernelspec": {
   "display_name": "base",
   "language": "python",
   "name": "python3"
  },
  "language_info": {
   "codemirror_mode": {
    "name": "ipython",
    "version": 3
   },
   "file_extension": ".py",
   "mimetype": "text/x-python",
   "name": "python",
   "nbconvert_exporter": "python",
   "pygments_lexer": "ipython3",
   "version": "3.12.7"
  }
 },
 "nbformat": 4,
 "nbformat_minor": 2
}
