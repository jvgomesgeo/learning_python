{
 "cells": [
  {
   "cell_type": "code",
   "execution_count": null,
   "metadata": {},
   "outputs": [
    {
     "name": "stdout",
     "output_type": "stream",
     "text": [
      "3\n"
     ]
    },
    {
     "ename": "TypeError",
     "evalue": "add() takes 2 positional arguments but 3 were given",
     "output_type": "error",
     "traceback": [
      "\u001b[1;31m---------------------------------------------------------------------------\u001b[0m",
      "\u001b[1;31mTypeError\u001b[0m                                 Traceback (most recent call last)",
      "Cell \u001b[1;32mIn[2], line 13\u001b[0m\n\u001b[0;32m      9\u001b[0m \u001b[38;5;28mprint\u001b[39m(add(\u001b[38;5;241m1\u001b[39m,\u001b[38;5;241m2\u001b[39m))\n\u001b[0;32m     11\u001b[0m \u001b[38;5;66;03m#if we passs more than 2 args in this function it wont work.\u001b[39;00m\n\u001b[1;32m---> 13\u001b[0m \u001b[38;5;28mprint\u001b[39m(\u001b[43madd\u001b[49m\u001b[43m(\u001b[49m\u001b[38;5;241;43m1\u001b[39;49m\u001b[43m,\u001b[49m\u001b[38;5;241;43m2\u001b[39;49m\u001b[43m,\u001b[49m\u001b[38;5;241;43m3\u001b[39;49m\u001b[43m)\u001b[49m)\n",
      "\u001b[1;31mTypeError\u001b[0m: add() takes 2 positional arguments but 3 were given"
     ]
    }
   ],
   "source": [
    "# *args = allows you to pass multiple non-key arguments\n",
    "# *kwargs = allows you to pass multiple keyword- arguments\n",
    "# *unpacking operator\n",
    "\n",
    "\n",
    "def add(a,b):\n",
    "    return a+b\n",
    "\n",
    "print(add(1,2))\n"
   ]
  },
  {
   "cell_type": "code",
   "execution_count": null,
   "metadata": {},
   "outputs": [],
   "source": [
    "\n",
    "#if we passs more than 2 args in this function it wont work.\n",
    "\n",
    "print(add(1,2,3))\n",
    "\n",
    "#for this we need to use args e kwargs"
   ]
  },
  {
   "cell_type": "code",
   "execution_count": 12,
   "metadata": {},
   "outputs": [
    {
     "name": "stdout",
     "output_type": "stream",
     "text": [
      "6\n"
     ]
    }
   ],
   "source": [
    "#using the unpacking (*) operator we can transform the arguments of the function in to a tuple\n",
    "\n",
    "def add(*args):\n",
    "    total = 0\n",
    "    for arg in args:\n",
    "        total += arg\n",
    "\n",
    "    return total\n",
    "\n",
    "\n",
    "print(add(1,2,3))"
   ]
  },
  {
   "cell_type": "code",
   "execution_count": 14,
   "metadata": {},
   "outputs": [
    {
     "name": "stdout",
     "output_type": "stream",
     "text": [
      "Jose Victor "
     ]
    }
   ],
   "source": [
    "def display_name(*names):\n",
    "    full_name = ''\n",
    "    for name in names:\n",
    "        print(name, end=\" \")\n",
    "        \n",
    "    \n",
    "    \n",
    "\n",
    "display_name(\"Jose\", \"Victor\")\n"
   ]
  },
  {
   "cell_type": "code",
   "execution_count": 18,
   "metadata": {},
   "outputs": [
    {
     "name": "stdout",
     "output_type": "stream",
     "text": [
      "street : 123 Fake Street\n",
      "apt : 420\n",
      "city : Los Angeles\n",
      "state : CA\n",
      "zip_code : 6666-666\n"
     ]
    }
   ],
   "source": [
    "#**KWARGS - differently *args, the **kwargs transforms the amount of arguments in the function, to a dictionary.\n",
    "\n",
    "def print_addres(**kwargs):\n",
    "    for key, value in kwargs.items():\n",
    "        print(f\"{key} : {value}\")\n",
    "\n",
    "\n",
    "print_addres(street =\"123 Fake Street\",\n",
    "             apt = \"420\",\n",
    "             city = \"Los Angeles\", \n",
    "             state = \"CA\", \n",
    "             zip_code= \"6666-666\")"
   ]
  },
  {
   "cell_type": "code",
   "execution_count": 29,
   "metadata": {},
   "outputs": [
    {
     "name": "stdout",
     "output_type": "stream",
     "text": [
      "--- Delivery Information ---\n",
      "Dr. Spongebob The Squarepants III \n",
      "123 Fake Street 420 Los Angeles CA 6666-666 \n",
      "-------------------- Using street, apt and city in one line, and the resto in another\n",
      "123 Fake Street 420 Los Angeles\n",
      "Los Angeles CA 6666-666\n"
     ]
    }
   ],
   "source": [
    "def shipping_label(*agrs, **kwargs):\n",
    "    print(\"--- Delivery Information ---\")\n",
    "    for arg in agrs:\n",
    "        print(arg, end=\" \")\n",
    "    \n",
    "    print()\n",
    "    \n",
    "    for value in kwargs.values():\n",
    "        print(f\"{value}\", end= ' ')\n",
    "\n",
    "    print()\n",
    "    print(\"-\" * 20, \"Using street, apt and city in one line, and the resto in another\")\n",
    "\n",
    "    #criando um condicional para printar a info do apt, caso tenha\n",
    "    if \"apt\" in kwargs:\n",
    "        print(f\"{kwargs.get('street')} {kwargs.get('apt')} {kwargs.get('city')}\")\n",
    "    else:\n",
    "        print(f\"{kwargs.get('street')}\")\n",
    "              \n",
    "    print(f\"{kwargs.get('city')} {kwargs.get('state')} {kwargs.get('zip_code')}\")\n",
    "\n",
    "\n",
    "\n",
    "\n",
    "shipping_label(\"Dr.\", \"Spongebob\", \"The Squarepants\", \"III\", \n",
    "               street =\"123 Fake Street\",\n",
    "               apt = \"420\",\n",
    "               city = \"Los Angeles\", \n",
    "               state = \"CA\", \n",
    "               zip_code= \"6666-666\")"
   ]
  }
 ],
 "metadata": {
  "kernelspec": {
   "display_name": "Python 3",
   "language": "python",
   "name": "python3"
  },
  "language_info": {
   "codemirror_mode": {
    "name": "ipython",
    "version": 3
   },
   "file_extension": ".py",
   "mimetype": "text/x-python",
   "name": "python",
   "nbconvert_exporter": "python",
   "pygments_lexer": "ipython3",
   "version": "3.12.2"
  }
 },
 "nbformat": 4,
 "nbformat_minor": 2
}
