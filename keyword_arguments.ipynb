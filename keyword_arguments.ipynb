{
 "cells": [
  {
   "cell_type": "code",
   "execution_count": null,
   "metadata": {},
   "outputs": [],
   "source": [
    "#keyword argument = an argument preceded by an identifier\n",
    "#                   helps with readability\n",
    "#                   order of arguments doesn't matter \n",
    "#                   "
   ]
  },
  {
   "cell_type": "code",
   "execution_count": 1,
   "metadata": {},
   "outputs": [
    {
     "name": "stdout",
     "output_type": "stream",
     "text": [
      "Hello Good morning Jose Victor\n"
     ]
    }
   ],
   "source": [
    "def hello(greetin, title, first, last):\n",
    "    print(f\"{greetin} {title} {first} {last}\")\n",
    "\n",
    "\n",
    "\n",
    "hello(\"Hello\", \"Good morning\", \"Jose\", \"Victor\")"
   ]
  },
  {
   "cell_type": "code",
   "execution_count": 2,
   "metadata": {},
   "outputs": [
    {
     "name": "stdout",
     "output_type": "stream",
     "text": [
      "Hi good morning Jose Asevedo\n"
     ]
    }
   ],
   "source": [
    "#The order doesn't matter\n",
    "\n",
    "hello(greetin= \"Hi\", last = \"Asevedo\", first= 'Jose', title= \"good morning\")"
   ]
  },
  {
   "cell_type": "code",
   "execution_count": null,
   "metadata": {},
   "outputs": [
    {
     "name": "stdout",
     "output_type": "stream",
     "text": [
      "1 2 3 4 5 6 7 8 9 10 "
     ]
    }
   ],
   "source": [
    "for x in range(1,11):\n",
    "    print(x, end=\" \")\n",
    "\n",
    "#keyword end"
   ]
  },
  {
   "cell_type": "code",
   "execution_count": 5,
   "metadata": {},
   "outputs": [
    {
     "name": "stdout",
     "output_type": "stream",
     "text": [
      "0-1-2-3-4-5\n"
     ]
    }
   ],
   "source": [
    "#keyword sep\n",
    "\n",
    "print(\"0\",\"1\",\"2\",\"3\",\"4\",\"5\", sep=\"-\")"
   ]
  },
  {
   "cell_type": "code",
   "execution_count": 7,
   "metadata": {},
   "outputs": [
    {
     "name": "stdout",
     "output_type": "stream",
     "text": [
      "1-123-456-7890\n"
     ]
    }
   ],
   "source": [
    "def get_phone(country, area, first, last):\n",
    "\n",
    "    return f\"{country}-{area}-{first}-{last}\"\n",
    "\n",
    "phone_num = get_phone(country=1 , area=123, first = 456, last = 7890)\n",
    "print(phone_num)"
   ]
  }
 ],
 "metadata": {
  "kernelspec": {
   "display_name": "Python 3",
   "language": "python",
   "name": "python3"
  },
  "language_info": {
   "codemirror_mode": {
    "name": "ipython",
    "version": 3
   },
   "file_extension": ".py",
   "mimetype": "text/x-python",
   "name": "python",
   "nbconvert_exporter": "python",
   "pygments_lexer": "ipython3",
   "version": "3.12.2"
  }
 },
 "nbformat": 4,
 "nbformat_minor": 2
}
