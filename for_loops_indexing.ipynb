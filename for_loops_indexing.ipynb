{
 "cells": [
  {
   "cell_type": "code",
   "execution_count": null,
   "metadata": {},
   "outputs": [
    {
     "name": "stdout",
     "output_type": "stream",
     "text": [
      "123456789"
     ]
    }
   ],
   "source": [
    "#first we gonna create a simple loop\n",
    "\n",
    "\n",
    "for x in range(1,10):\n",
    "    print(x, end= \"\") #obs: end=\"\" serve para ele printar tudo na mesma linha\n",
    "    "
   ]
  },
  {
   "cell_type": "code",
   "execution_count": 7,
   "metadata": {},
   "outputs": [
    {
     "name": "stdout",
     "output_type": "stream",
     "text": [
      "1 2 3 4 5 6 7 8 9 \n",
      "1 2 3 4 5 6 7 8 9 \n",
      "1 2 3 4 5 6 7 8 9 \n",
      "1 2 3 4 5 6 7 8 9 \n",
      "1 2 3 4 5 6 7 8 9 \n"
     ]
    }
   ],
   "source": [
    "#se colocar isso em dentro de outro loop\n",
    "\n",
    "for y in range(1,6):\n",
    "    for x in range(1,10):\n",
    "        print(x, end=\" \")\n",
    "    print(\"\")"
   ]
  },
  {
   "cell_type": "code",
   "execution_count": 9,
   "metadata": {},
   "outputs": [
    {
     "name": "stdout",
     "output_type": "stream",
     "text": [
      "* * * * * \n",
      "* * * * * \n",
      "* * * * * \n",
      "* * * * * \n",
      "* * * * * \n"
     ]
    }
   ],
   "source": [
    "#print a rectangle, using as inputs the rows, columns and symbols to rendering it.\n",
    "\n",
    "rows = int(input(\"Enter the numbers of rows\"))\n",
    "cols = int(input(\"Enter the numbers of columns\"))\n",
    "symbol = input(\"Enter the symbol\")\n",
    "\n",
    "\n",
    "for x in range(1,rows +1):\n",
    "    for y in range(1,cols+1):\n",
    "        print(symbol, end = \" \")\n",
    "    print()"
   ]
  }
 ],
 "metadata": {
  "kernelspec": {
   "display_name": "base",
   "language": "python",
   "name": "python3"
  },
  "language_info": {
   "codemirror_mode": {
    "name": "ipython",
    "version": 3
   },
   "file_extension": ".py",
   "mimetype": "text/x-python",
   "name": "python",
   "nbconvert_exporter": "python",
   "pygments_lexer": "ipython3",
   "version": "3.12.7"
  }
 },
 "nbformat": 4,
 "nbformat_minor": 2
}
