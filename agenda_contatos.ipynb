{
 "cells": [
  {
   "cell_type": "code",
   "execution_count": 83,
   "metadata": {},
   "outputs": [],
   "source": [
    "#INSERINDO OS DADOS\n",
    "import random \n",
    "\n",
    "infos = {\"Fábio\": {\"idade\": 33, 'sexo': \"M\"},\n",
    "         \"Victor\": {\"idade\": 28, 'sexo': \"M\"},\n",
    "         \"Julia\": {\"idade\": 25, 'sexo': \"F\"},\n",
    "         \"Matheus\" : {\"idade\": 30, 'sexo': \"M\"}\n",
    "         }\n",
    "\n",
    "\n",
    "for key, value in infos.items():\n",
    "    infos[key].update({'tel': str(random.randint(10,99))  + '-'  + \n",
    "                       str(random.randint(100000000, 900000000)) })\n",
    "\n",
    "options = [ \"1- Adicionar Contato\",\n",
    "            \"2- Buscar Contato\",\n",
    "            \"3- Remover contatos\",\n",
    "            \"q- Para Sair\",\n",
    "]\n"
   ]
  },
  {
   "cell_type": "code",
   "execution_count": 72,
   "metadata": {},
   "outputs": [],
   "source": [
    "def add_contato():\n",
    " \n",
    "    new_ctt = input(\"Digite o nome do novo contato: \")\n",
    "    \n",
    "    while True:\n",
    "        try:\n",
    "            idade = int(input(\"Digite a idade do contato: \"))\n",
    "            break\n",
    "        except ValueError:\n",
    "            print(\"Erro: Entre com numero válido\")\n",
    "\n",
    "    sexo_ctt = input(\"Digite o sexo do contato (M ou F):\")\n",
    "\n",
    "    while True:\n",
    "        try:\n",
    "            telefone = input(\"Digite o telefone do contato\")\n",
    "            if len(telefone) > 12:\n",
    "                print(f\"Entre com um numero válido!\")\n",
    "            break\n",
    "        except ValueError:\n",
    "            print(\"Erro: Entre com numero válido\")\n",
    "        \n",
    "    infos[new_ctt] = {'idade': idade, 'sexo': sexo_ctt, 'tel': telefone}\n",
    "\n",
    "add_contato()\n"
   ]
  },
  {
   "cell_type": "code",
   "execution_count": 69,
   "metadata": {},
   "outputs": [
    {
     "name": "stdout",
     "output_type": "stream",
     "text": [
      "Contato Jessica inexistente.\n",
      "Contato Victor; Idade 28 anos; Sexo M; Tel: 28 - 834356421\n"
     ]
    }
   ],
   "source": [
    "def buscar_ctt():\n",
    "\n",
    "    name_ctt = input(\"Digite o nome do contato para visualizar as informações: \")\n",
    "    while True:\n",
    "        try:\n",
    "            if name_ctt in infos.keys():\n",
    "                print(\"Contato {}; Idade {} anos; Sexo {}; Tel: {}\".format(\n",
    "                    name_ctt,\n",
    "                    list(infos.get(name_ctt).values())[0],\n",
    "                    list(infos.get(name_ctt).values())[1],\n",
    "                    list(infos.get(name_ctt).values())[2]\n",
    "                ))\n",
    "                break\n",
    "            else:\n",
    "                print(f\"Contato {name_ctt} inexistente.\")\n",
    "                name_ctt = input(\"Digite o nome do contato para visualizar as informações: \")\n",
    "            \n",
    "        except ValueError:\n",
    "            print(\"Erro, insira um nome válido\")\n",
    "    \n",
    "buscar_ctt()\n"
   ]
  },
  {
   "cell_type": "code",
   "execution_count": null,
   "metadata": {},
   "outputs": [],
   "source": [
    "def remover_ctt():\n",
    "    ctt_remover = input(\"Digite o nome do contato a ser removido: \")\n",
    "\n",
    "    while True:\n",
    "        try:\n",
    "            if ctt_remover in infos.keys():\n",
    "                infos.pop(ctt_remover)\n",
    "                \n",
    "                break\n",
    "\n",
    "            else:\n",
    "                print(f\"Contato {ctt_remover} inexistente.\")\n",
    "                ctt_remover = input(\"Digite o nome do contato a ser removido: \")\n",
    "        \n",
    "        except ValueError:\n",
    "            print(\"Erro, insira um nome válido\")\n",
    "    \n",
    "remover_ctt()\n",
    "    \n"
   ]
  },
  {
   "cell_type": "code",
   "execution_count": 82,
   "metadata": {},
   "outputs": [
    {
     "name": "stdout",
     "output_type": "stream",
     "text": [
      "--- Opções de Contatos ---\n"
     ]
    },
    {
     "ename": "NameError",
     "evalue": "name 'options' is not defined",
     "output_type": "error",
     "traceback": [
      "\u001b[1;31m---------------------------------------------------------------------------\u001b[0m",
      "\u001b[1;31mNameError\u001b[0m                                 Traceback (most recent call last)",
      "Cell \u001b[1;32mIn[82], line 5\u001b[0m\n\u001b[0;32m      1\u001b[0m \u001b[38;5;28;01mwhile\u001b[39;00m \u001b[38;5;28;01mTrue\u001b[39;00m:\n\u001b[0;32m      3\u001b[0m     \u001b[38;5;28mprint\u001b[39m(\u001b[38;5;124m\"\u001b[39m\u001b[38;5;124m--- Opções de Contatos ---\u001b[39m\u001b[38;5;124m\"\u001b[39m)\n\u001b[1;32m----> 5\u001b[0m     \u001b[38;5;28;01mfor\u001b[39;00m opt \u001b[38;5;129;01min\u001b[39;00m \u001b[43moptions\u001b[49m:\n\u001b[0;32m      6\u001b[0m         \u001b[38;5;28mprint\u001b[39m(opt)\n\u001b[0;32m      8\u001b[0m     choice \u001b[38;5;241m=\u001b[39m \u001b[38;5;28minput\u001b[39m(\u001b[38;5;124m\"\u001b[39m\u001b[38;5;124mEscolha uma opção: \u001b[39m\u001b[38;5;124m\"\u001b[39m)\n",
      "\u001b[1;31mNameError\u001b[0m: name 'options' is not defined"
     ]
    }
   ],
   "source": [
    "while True:\n",
    "\n",
    "    print(\"--- Opções de Contatos ---\")\n",
    "\n",
    "    for opt in options:\n",
    "        print(opt)\n",
    "\n",
    "    choice = input(\"Escolha uma opção: \")\n",
    "\n",
    "    if choice == 'q'.lower():\n",
    "        break\n",
    "\n",
    "    elif choice == \"1\":\n",
    "        add_contato()\n",
    "    \n",
    "    elif choice == \"2\":\n",
    "        buscar_ctt()\n",
    "    elif choice == \"3\":\n",
    "        remover_ctt()\n",
    "    \n",
    "    else:\n",
    "        print(\"Opção inválida. Por favor, digite uma opção válida.\")\n",
    "\n",
    "\n",
    "print(\"--- Sistema Fechado --- \")"
   ]
  },
  {
   "cell_type": "code",
   "execution_count": null,
   "metadata": {},
   "outputs": [],
   "source": [
    "\n",
    "a = [random.randint(100000, 900000) for i in range(0,4)]\n",
    "\n",
    "contatos = {key: value for key, value in zip(infos.values['']) }\n",
    "\n",
    "#{key: value, for key, value in zip()}"
   ]
  }
 ],
 "metadata": {
  "kernelspec": {
   "display_name": "Python 3",
   "language": "python",
   "name": "python3"
  },
  "language_info": {
   "codemirror_mode": {
    "name": "ipython",
    "version": 3
   },
   "file_extension": ".py",
   "mimetype": "text/x-python",
   "name": "python",
   "nbconvert_exporter": "python",
   "pygments_lexer": "ipython3",
   "version": "3.12.2"
  }
 },
 "nbformat": 4,
 "nbformat_minor": 2
}
