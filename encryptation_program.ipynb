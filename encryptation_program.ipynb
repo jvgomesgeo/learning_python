{
 "cells": [
  {
   "cell_type": "code",
   "execution_count": 1,
   "metadata": {},
   "outputs": [
    {
     "name": "stdout",
     "output_type": "stream",
     "text": [
      "Original message Jose\n",
      "Encrypted message: '^j9\n"
     ]
    }
   ],
   "source": [
    "import random\n",
    "import string\n",
    "\n",
    "#importing all chars\n",
    "chars = \" \" + string.punctuation + string.digits + string.ascii_letters \n",
    "chars = list(chars)\n",
    "key = chars.copy()\n",
    "\n",
    "#embaralhando as chaves\n",
    "random.shuffle(key)\n",
    "\n",
    "\n",
    "#encryption\n",
    "\n",
    "text = input(\"Enter a message to encrypt: \")\n",
    "\n",
    "cipher_text = \"\"\n",
    "\n",
    "\n",
    "for letter in text: #This loop iterate in each letter of the text input and assing the index of each letter \n",
    "                    \n",
    "    index = chars.index(letter)\n",
    "\n",
    "    cipher_text += key[index]\n",
    "\n",
    "\n",
    "print(f\"Original message {text}\")\n",
    "print(f\"Encrypted message: {cipher_text}\")\n",
    "\n",
    "\n"
   ]
  },
  {
   "cell_type": "code",
   "execution_count": null,
   "metadata": {},
   "outputs": [
    {
     "name": "stdout",
     "output_type": "stream",
     "text": [
      "Encrypted message: '^j9\n",
      "Original message Jose\n"
     ]
    }
   ],
   "source": [
    "#decryption\n",
    "\n",
    "cipher_text = input(\"Enter a message to decrypt: \")\n",
    "\n",
    "plain_text = \"\"\n",
    "\n",
    "for letter in cipher_text: #This loop iterate in each letter of the text input and assing the index of each letter \n",
    "                    \n",
    "    index = key.index(letter)\n",
    "    plain_text += chars[index]\n",
    "\n",
    "\n",
    "print(f\"Encrypted message: {cipher_text}\")\n",
    "print(f\"Original message {text}\")\n",
    "\n"
   ]
  }
 ],
 "metadata": {
  "kernelspec": {
   "display_name": "Python 3",
   "language": "python",
   "name": "python3"
  },
  "language_info": {
   "codemirror_mode": {
    "name": "ipython",
    "version": 3
   },
   "file_extension": ".py",
   "mimetype": "text/x-python",
   "name": "python",
   "nbconvert_exporter": "python",
   "pygments_lexer": "ipython3",
   "version": "3.12.2"
  }
 },
 "nbformat": 4,
 "nbformat_minor": 2
}
