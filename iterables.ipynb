{
 "cells": [
  {
   "cell_type": "code",
   "execution_count": 5,
   "metadata": {},
   "outputs": [
    {
     "name": "stdout",
     "output_type": "stream",
     "text": [
      "5\n",
      "4\n",
      "3\n",
      "2\n",
      "1\n"
     ]
    }
   ],
   "source": [
    "#Iterables => an object/collection that can return its elements one at a time,\n",
    "#               allowing it to be iterated over in a loop\n",
    "\n",
    "#list is a iterable\n",
    "\n",
    "numbers = [1,2,3,4,5]\n",
    "\n",
    "for number in reversed(numbers): #reversed to reverse the list\n",
    "    print(number)"
   ]
  },
  {
   "cell_type": "code",
   "execution_count": 7,
   "metadata": {},
   "outputs": [
    {
     "name": "stdout",
     "output_type": "stream",
     "text": [
      "5\n",
      "4\n",
      "3\n",
      "2\n",
      "1\n"
     ]
    }
   ],
   "source": [
    "#Tuples are also iterables\n",
    "\n",
    "numbers = (1,2,3,4,5)\n",
    "\n",
    "for n in reversed(numbers):\n",
    "    print(n)\n"
   ]
  },
  {
   "cell_type": "code",
   "execution_count": 9,
   "metadata": {},
   "outputs": [
    {
     "name": "stdout",
     "output_type": "stream",
     "text": [
      "strawberry\n",
      "banana\n",
      "apple\n",
      "pineapple\n"
     ]
    }
   ],
   "source": [
    "# Sets are also iterables\n",
    "\n",
    "strings = {'banana', 'apple', 'strawberry', 'pineapple'}\n",
    "\n",
    "\n",
    "for fruit in strings:\n",
    "    print(fruit)\n",
    "\n",
    "#OBS: we can't use the reversed method in sets, because they're not ordered\n"
   ]
  },
  {
   "cell_type": "code",
   "execution_count": 10,
   "metadata": {},
   "outputs": [
    {
     "name": "stdout",
     "output_type": "stream",
     "text": [
      "J o s e   V i c t o r   G o m e s   d e   A s e v e d o "
     ]
    }
   ],
   "source": [
    "#Strings are also iterables\n",
    "\n",
    "nome = \"Jose Victor Gomes de Asevedo\"\n",
    "\n",
    "\n",
    "for letter in nome:\n",
    "    print(letter, end= ' ')\n"
   ]
  },
  {
   "cell_type": "code",
   "execution_count": 11,
   "metadata": {},
   "outputs": [
    {
     "name": "stdout",
     "output_type": "stream",
     "text": [
      "A : 1\n",
      "B : 2\n",
      "C : 3\n"
     ]
    }
   ],
   "source": [
    "#Dictionaries a also iterables\n",
    "\n",
    "\n",
    "my_dict = {\"A\" :1, \"B\": 2, \"C\": 3}\n",
    "\n",
    "for key, value in my_dict.items():\n",
    "    print(f\"{key} : {value}\")"
   ]
  }
 ],
 "metadata": {
  "kernelspec": {
   "display_name": "base",
   "language": "python",
   "name": "python3"
  },
  "language_info": {
   "codemirror_mode": {
    "name": "ipython",
    "version": 3
   },
   "file_extension": ".py",
   "mimetype": "text/x-python",
   "name": "python",
   "nbconvert_exporter": "python",
   "pygments_lexer": "ipython3",
   "version": "3.12.7"
  }
 },
 "nbformat": 4,
 "nbformat_minor": 2
}
