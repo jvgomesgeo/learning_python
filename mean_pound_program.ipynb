{
 "cells": [
  {
   "cell_type": "code",
   "execution_count": null,
   "metadata": {},
   "outputs": [
    {
     "name": "stdout",
     "output_type": "stream",
     "text": [
      "Student Ana\n",
      "Class English\n",
      "English score: 90\n",
      "English wheight: 1.3\n",
      "Class Math\n",
      "Math score: 90\n",
      "Math wheight: 1.5\n",
      "Ana's pondered mean is: 90.0\n"
     ]
    }
   ],
   "source": [
    "names = []\n",
    "while True:\n",
    "\n",
    "    name_student = input(\"What is the student name (or 'q' to quit): \")\n",
    "    if name_student == \"q\".lower():\n",
    "        break\n",
    "    names.append(name_student)\n",
    "    print(f\"Student {name_student}\")\n",
    "    class_names = []\n",
    "    scores = []\n",
    "    wheights = []\n",
    "\n",
    "    while True:\n",
    "        class_n = input(\"Specify the class (or 'q' to quit): \")\n",
    "        if class_n == \"q\".lower():\n",
    "            break\n",
    "        \n",
    "        print(f\"Class {class_n}\")\n",
    "        class_names.append(class_n)\n",
    "\n",
    "        score = int(input(f\"Input the {name_student} {class_n} score: \"))\n",
    "        print(f\"{class_n} score: {score}\")\n",
    "\n",
    "        wheight_str = input(f\"Input the wheight of {class_n}\")\n",
    "        wheight = float(wheight_str)\n",
    "        print(f\"{class_n} wheight: {wheight}\")\n",
    "\n",
    "        \n",
    "        scores.append(score)\n",
    "        wheights.append(float(wheight))\n",
    "\n",
    "\n",
    "    \n",
    "\n",
    "    if scores:\n",
    "        pond_sum = sum(s*w for s, w in zip(scores, wheights))\n",
    "        w_sum = sum(wheights)\n",
    "        mean_pond = pond_sum/w_sum\n",
    "        print(f\"Ana's pondered mean is: {round(mean_pond,2)}\")\n",
    "\n",
    "\n"
   ]
  },
  {
   "cell_type": "code",
   "execution_count": null,
   "metadata": {},
   "outputs": [
    {
     "name": "stdout",
     "output_type": "stream",
     "text": [
      "Student: Ana\n",
      "Error, Class not find.\n",
      "----- Finish -----\n"
     ]
    }
   ],
   "source": [
    "class_pounds = {\"Math\": 1.3,\n",
    "                \"English\": 1.15,\n",
    "                \"Biology\": 1.05,\n",
    "                \"History\": 1.1,\n",
    "                \"Physics\": 1.15,\n",
    "                \"Coding\": 1.25}\n",
    "\n",
    "names = []\n",
    "scores = []\n",
    "\n",
    "while True:    \n",
    "    name = input(\"---- Student Name: ----\")\n",
    "    if name == \"q\".lower():\n",
    "        break\n",
    "\n",
    "    print(f\"Student: {name}\")\n",
    "    names.append(name)\n",
    "\n",
    "    for key, value in class_pounds.items():\n",
    "        score_input = input(f\"Enter the {name} {key}'s score ('q' to quit): \")\n",
    "\n",
    "        if score_input.isdigit():\n",
    "            score_input = int(score_input)\n",
    "            scores.append(score_input)\n",
    "            print(f\"{name}'s {key} Score: {score_input}\")\n",
    "\n",
    "        elif score_input == \"q\".lower():\n",
    "            break\n",
    "\n",
    "        else:\n",
    "            print(\"Error, Class not find.\")\n",
    "    \n",
    "    if scores:\n",
    "        scores_pounds = sum(x * y for x,y in zip(scores, class_pounds.values()))\n",
    "        pound_sum = sum(class_pounds.values())\n",
    "        mean_pond = scores_pounds/pound_sum\n",
    "\n",
    "        if mean_pond >= 70:\n",
    "            print(f\"Congratilations !! {name} was approved !\")\n",
    "\n",
    "        elif mean_pond > 50 or mean_pond < 70:\n",
    "            print(\"You have one more time to the exams\")\n",
    "\n",
    "        else:\n",
    "            print(f\"Oh Shit {name}, here we go again\")\n",
    "        \n",
    "\n",
    "print(5 * '-',\"Finish\" , 5 * '-')\n",
    "\n"
   ]
  }
 ],
 "metadata": {
  "kernelspec": {
   "display_name": "Python 3",
   "language": "python",
   "name": "python3"
  },
  "language_info": {
   "codemirror_mode": {
    "name": "ipython",
    "version": 3
   },
   "file_extension": ".py",
   "mimetype": "text/x-python",
   "name": "python",
   "nbconvert_exporter": "python",
   "pygments_lexer": "ipython3",
   "version": "3.12.2"
  }
 },
 "nbformat": 4,
 "nbformat_minor": 2
}
