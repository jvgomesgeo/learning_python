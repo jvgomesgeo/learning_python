{
 "cells": [
  {
   "cell_type": "code",
   "execution_count": null,
   "metadata": {},
   "outputs": [],
   "source": []
  },
  {
   "cell_type": "code",
   "execution_count": 18,
   "metadata": {},
   "outputs": [
    {
     "name": "stdout",
     "output_type": "stream",
     "text": [
      "----- MENU -----\n",
      "pizza     : $3.00\n",
      "nachos    : $4.50\n",
      "popcorn   : $6.00\n",
      "fries     : $2.50\n",
      "chips     : $3.50\n",
      "pretzel   : $3.50\n",
      "soda      : $3.00\n",
      "lemonade  : $4.25\n",
      "----- CART -----\n",
      "['pizza']\n",
      "The total value is: $3.00\n",
      "----- CART -----\n",
      "['pizza', 'lemonade']\n",
      "['pizza', 'lemonade']\n",
      "The total value is: $7.25\n"
     ]
    }
   ],
   "source": [
    "#concession stand program\n",
    "menu = {\"pizza\" : 3.00,\n",
    "        \"nachos\": 4.5,\n",
    "        \"popcorn\": 6.00,\n",
    "        \"fries\" : 2.50,\n",
    "        \"chips\" : 3.50,\n",
    "        \"pretzel\" : 3.5,\n",
    "        \"soda\" : 3.00,\n",
    "        \"lemonade\" : 4.25}\n",
    "\n",
    "cart = []\n",
    "total = 0\n",
    "\n",
    "print(\"-\" * 5, \"MENU\", \"-\" * 5)\n",
    "for key, value in menu.items():\n",
    "    print(f\"{key:10}: ${value:.2f}\")\n",
    "\n",
    "while True:\n",
    "    food = input(\"Select an item (q to quit):\").lower()\n",
    "\n",
    "    if food == \"q\".lower():\n",
    "        break\n",
    "    elif menu.get(food) is not None:\n",
    "        cart.append(food)\n",
    "    \n",
    "    else:\n",
    "        print(f\"Food not in menu\")\n",
    "    \n",
    "    print(\"-\" * 5, \"CART\", \"-\" * 5)\n",
    "    \n",
    "        \n",
    "    print(cart)\n",
    "\n",
    "    for key, value in menu.items():\n",
    "        if key == food:\n",
    "            total += value\n",
    "    print(f\"The total value is: ${total:.2f}\")\n",
    "#dictionary {key:value}\n",
    "\n"
   ]
  }
 ],
 "metadata": {
  "kernelspec": {
   "display_name": "base",
   "language": "python",
   "name": "python3"
  },
  "language_info": {
   "codemirror_mode": {
    "name": "ipython",
    "version": 3
   },
   "file_extension": ".py",
   "mimetype": "text/x-python",
   "name": "python",
   "nbconvert_exporter": "python",
   "pygments_lexer": "ipython3",
   "version": "3.12.7"
  }
 },
 "nbformat": 4,
 "nbformat_minor": 2
}
